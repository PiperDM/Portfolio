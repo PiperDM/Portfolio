{
 "cells": [
  {
   "cell_type": "markdown",
   "metadata": {
    "id": "TK7oX5qdEEYr"
   },
   "source": [
    "# Домашнее задание. Решение конкурса на kaggle.com\n"
   ]
  },
  {
   "cell_type": "markdown",
   "metadata": {},
   "source": [
    "<a name=\"b\"> </a>\n",
    "\n",
    "### Оглавление\n",
    "\n",
    "<a href=#1> 1. Исследование</a><br>\n",
    "<a href=#2> 2. Загрузка и обработка тестовых данных</a><br>\n",
    "<a href=#3> 3. Логистическая регрессия</a><br>\n",
    "<a href=#4> 4. Лес</a><br>\n",
    "<a href=#5> 5. Градиентный бустинг </a><br>\n",
    "<a href=#6> Финальный результат </a><br>\n"
   ]
  },
  {
   "cell_type": "code",
   "execution_count": 2,
   "metadata": {
    "execution": {
     "iopub.execute_input": "2023-03-28T07:06:48.289913Z",
     "iopub.status.busy": "2023-03-28T07:06:48.289304Z",
     "iopub.status.idle": "2023-03-28T07:06:48.434117Z",
     "shell.execute_reply": "2023-03-28T07:06:48.433098Z",
     "shell.execute_reply.started": "2023-03-28T07:06:48.289874Z"
    },
    "id": "lzLqEeZKEEYz"
   },
   "outputs": [],
   "source": [
    "import pandas as pd\n",
    "import numpy as np\n",
    "from matplotlib import pyplot as plt\n",
    "import seaborn as sns\n",
    "\n",
    "sns.set()\n",
    "\n",
    "from sklearn.linear_model import LogisticRegression, LogisticRegressionCV\n",
    "from sklearn.model_selection import train_test_split, GridSearchCV, RandomizedSearchCV\n",
    "from sklearn.preprocessing import StandardScaler, RobustScaler, LabelEncoder, OneHotEncoder, power_transform\n",
    "from category_encoders import TargetEncoder, MEstimateEncoder\n",
    "from sklearn.pipeline import make_pipeline, Pipeline\n",
    "from sklearn.metrics import roc_auc_score\n",
    "from sklearn.compose import ColumnTransformer\n",
    "from sklearn.decomposition import PCA\n",
    "\n",
    "from sklearn.ensemble import RandomForestClassifier\n",
    "from sklearn.model_selection import cross_val_score, GridSearchCV\n",
    "from catboost import CatBoostClassifier, Pool, cv\n",
    "\n",
    "from tqdm import tqdm\n",
    "\n",
    "import warnings\n",
    "warnings.filterwarnings('ignore')\n",
    "%config Completer.use_jedi = False"
   ]
  },
  {
   "cell_type": "markdown",
   "metadata": {
    "id": "IrDNNkNTEEYz"
   },
   "source": [
    "<a name=\"1\"> </a>   \n",
    "# 1. Исследование\n",
    "<a href=\"#b\"> назад </a> "
   ]
  },
  {
   "cell_type": "markdown",
   "metadata": {
    "id": "LOlxdURSEEY3"
   },
   "source": [
    "### Загрузка данных (2 балла)"
   ]
  },
  {
   "cell_type": "code",
   "execution_count": 3,
   "metadata": {},
   "outputs": [],
   "source": [
    "DATAPATH = './kgl-comp-data/' #'/kaggle/input/advanced-dls-spring-2021/'"
   ]
  },
  {
   "cell_type": "code",
   "execution_count": 4,
   "metadata": {
    "execution": {
     "iopub.execute_input": "2023-03-28T07:06:48.436458Z",
     "iopub.status.busy": "2023-03-28T07:06:48.436011Z",
     "iopub.status.idle": "2023-03-28T07:06:48.463034Z",
     "shell.execute_reply": "2023-03-28T07:06:48.462071Z",
     "shell.execute_reply.started": "2023-03-28T07:06:48.436421Z"
    },
    "id": "pw-Brue9EEY3"
   },
   "outputs": [],
   "source": [
    "data = pd.read_csv(DATAPATH+'train.csv')"
   ]
  },
  {
   "cell_type": "code",
   "execution_count": 5,
   "metadata": {
    "execution": {
     "iopub.execute_input": "2023-03-28T07:06:48.464651Z",
     "iopub.status.busy": "2023-03-28T07:06:48.464305Z",
     "iopub.status.idle": "2023-03-28T07:06:48.471544Z",
     "shell.execute_reply": "2023-03-28T07:06:48.469550Z",
     "shell.execute_reply.started": "2023-03-28T07:06:48.464615Z"
    },
    "id": "KgnkkF5bEEY9"
   },
   "outputs": [],
   "source": [
    "# Числовые признаки\n",
    "num_cols = [\n",
    "    'ClientPeriod',\n",
    "    'MonthlySpending',\n",
    "    'TotalSpent'\n",
    "]\n",
    "\n",
    "# Категориальные признаки\n",
    "cat_cols = [\n",
    "    'Sex',\n",
    "    'IsSeniorCitizen',\n",
    "    'HasPartner',\n",
    "    'HasChild',\n",
    "    'HasPhoneService',\n",
    "    'HasMultiplePhoneNumbers',\n",
    "    'HasInternetService',\n",
    "    'HasOnlineSecurityService',\n",
    "    'HasOnlineBackup',\n",
    "    'HasDeviceProtection',\n",
    "    'HasTechSupportAccess',\n",
    "    'HasOnlineTV',\n",
    "    'HasMovieSubscription',\n",
    "    'HasContractPhone',\n",
    "    'IsBillingPaperless',\n",
    "    'PaymentMethod'\n",
    "]\n",
    "\n",
    "feature_cols = num_cols + cat_cols\n",
    "target_col = 'Churn'"
   ]
  },
  {
   "cell_type": "code",
   "execution_count": 6,
   "metadata": {
    "execution": {
     "iopub.execute_input": "2023-03-28T07:06:48.475015Z",
     "iopub.status.busy": "2023-03-28T07:06:48.474624Z",
     "iopub.status.idle": "2023-03-28T07:06:48.497763Z",
     "shell.execute_reply": "2023-03-28T07:06:48.496664Z",
     "shell.execute_reply.started": "2023-03-28T07:06:48.474980Z"
    },
    "id": "tHC6gWabEEZA"
   },
   "outputs": [
    {
     "name": "stdout",
     "output_type": "stream",
     "text": [
      "<class 'pandas.core.frame.DataFrame'>\n",
      "RangeIndex: 5282 entries, 0 to 5281\n",
      "Data columns (total 20 columns):\n",
      " #   Column                    Non-Null Count  Dtype  \n",
      "---  ------                    --------------  -----  \n",
      " 0   ClientPeriod              5282 non-null   int64  \n",
      " 1   MonthlySpending           5282 non-null   float64\n",
      " 2   TotalSpent                5282 non-null   object \n",
      " 3   Sex                       5282 non-null   object \n",
      " 4   IsSeniorCitizen           5282 non-null   int64  \n",
      " 5   HasPartner                5282 non-null   object \n",
      " 6   HasChild                  5282 non-null   object \n",
      " 7   HasPhoneService           5282 non-null   object \n",
      " 8   HasMultiplePhoneNumbers   5282 non-null   object \n",
      " 9   HasInternetService        5282 non-null   object \n",
      " 10  HasOnlineSecurityService  5282 non-null   object \n",
      " 11  HasOnlineBackup           5282 non-null   object \n",
      " 12  HasDeviceProtection       5282 non-null   object \n",
      " 13  HasTechSupportAccess      5282 non-null   object \n",
      " 14  HasOnlineTV               5282 non-null   object \n",
      " 15  HasMovieSubscription      5282 non-null   object \n",
      " 16  HasContractPhone          5282 non-null   object \n",
      " 17  IsBillingPaperless        5282 non-null   object \n",
      " 18  PaymentMethod             5282 non-null   object \n",
      " 19  Churn                     5282 non-null   int64  \n",
      "dtypes: float64(1), int64(3), object(16)\n",
      "memory usage: 825.4+ KB\n"
     ]
    }
   ],
   "source": [
    "data.info()"
   ]
  },
  {
   "cell_type": "code",
   "execution_count": 7,
   "metadata": {
    "execution": {
     "iopub.execute_input": "2023-03-28T07:06:48.499769Z",
     "iopub.status.busy": "2023-03-28T07:06:48.499431Z",
     "iopub.status.idle": "2023-03-28T07:06:48.524547Z",
     "shell.execute_reply": "2023-03-28T07:06:48.522995Z",
     "shell.execute_reply.started": "2023-03-28T07:06:48.499734Z"
    }
   },
   "outputs": [
    {
     "data": {
      "text/html": [
       "<div>\n",
       "<style scoped>\n",
       "    .dataframe tbody tr th:only-of-type {\n",
       "        vertical-align: middle;\n",
       "    }\n",
       "\n",
       "    .dataframe tbody tr th {\n",
       "        vertical-align: top;\n",
       "    }\n",
       "\n",
       "    .dataframe thead th {\n",
       "        text-align: right;\n",
       "    }\n",
       "</style>\n",
       "<table border=\"1\" class=\"dataframe\">\n",
       "  <thead>\n",
       "    <tr style=\"text-align: right;\">\n",
       "      <th></th>\n",
       "      <th>ClientPeriod</th>\n",
       "      <th>MonthlySpending</th>\n",
       "      <th>TotalSpent</th>\n",
       "      <th>Sex</th>\n",
       "      <th>IsSeniorCitizen</th>\n",
       "      <th>HasPartner</th>\n",
       "      <th>HasChild</th>\n",
       "      <th>HasPhoneService</th>\n",
       "      <th>HasMultiplePhoneNumbers</th>\n",
       "      <th>HasInternetService</th>\n",
       "      <th>HasOnlineSecurityService</th>\n",
       "      <th>HasOnlineBackup</th>\n",
       "      <th>HasDeviceProtection</th>\n",
       "      <th>HasTechSupportAccess</th>\n",
       "      <th>HasOnlineTV</th>\n",
       "      <th>HasMovieSubscription</th>\n",
       "      <th>HasContractPhone</th>\n",
       "      <th>IsBillingPaperless</th>\n",
       "      <th>PaymentMethod</th>\n",
       "      <th>Churn</th>\n",
       "    </tr>\n",
       "  </thead>\n",
       "  <tbody>\n",
       "    <tr>\n",
       "      <th>3561</th>\n",
       "      <td>12</td>\n",
       "      <td>85.15</td>\n",
       "      <td>979.05</td>\n",
       "      <td>Female</td>\n",
       "      <td>0</td>\n",
       "      <td>No</td>\n",
       "      <td>No</td>\n",
       "      <td>Yes</td>\n",
       "      <td>No</td>\n",
       "      <td>Fiber optic</td>\n",
       "      <td>Yes</td>\n",
       "      <td>No</td>\n",
       "      <td>No</td>\n",
       "      <td>No</td>\n",
       "      <td>Yes</td>\n",
       "      <td>No</td>\n",
       "      <td>One year</td>\n",
       "      <td>Yes</td>\n",
       "      <td>Credit card (automatic)</td>\n",
       "      <td>0</td>\n",
       "    </tr>\n",
       "    <tr>\n",
       "      <th>2678</th>\n",
       "      <td>72</td>\n",
       "      <td>84.20</td>\n",
       "      <td>5986.55</td>\n",
       "      <td>Female</td>\n",
       "      <td>0</td>\n",
       "      <td>Yes</td>\n",
       "      <td>Yes</td>\n",
       "      <td>Yes</td>\n",
       "      <td>Yes</td>\n",
       "      <td>DSL</td>\n",
       "      <td>Yes</td>\n",
       "      <td>No</td>\n",
       "      <td>Yes</td>\n",
       "      <td>Yes</td>\n",
       "      <td>Yes</td>\n",
       "      <td>Yes</td>\n",
       "      <td>Two year</td>\n",
       "      <td>Yes</td>\n",
       "      <td>Bank transfer (automatic)</td>\n",
       "      <td>0</td>\n",
       "    </tr>\n",
       "    <tr>\n",
       "      <th>3962</th>\n",
       "      <td>2</td>\n",
       "      <td>56.55</td>\n",
       "      <td>118.25</td>\n",
       "      <td>Female</td>\n",
       "      <td>1</td>\n",
       "      <td>No</td>\n",
       "      <td>No</td>\n",
       "      <td>Yes</td>\n",
       "      <td>Yes</td>\n",
       "      <td>DSL</td>\n",
       "      <td>No</td>\n",
       "      <td>Yes</td>\n",
       "      <td>No</td>\n",
       "      <td>No</td>\n",
       "      <td>No</td>\n",
       "      <td>No</td>\n",
       "      <td>Month-to-month</td>\n",
       "      <td>Yes</td>\n",
       "      <td>Credit card (automatic)</td>\n",
       "      <td>0</td>\n",
       "    </tr>\n",
       "    <tr>\n",
       "      <th>663</th>\n",
       "      <td>22</td>\n",
       "      <td>59.05</td>\n",
       "      <td>1253.5</td>\n",
       "      <td>Female</td>\n",
       "      <td>0</td>\n",
       "      <td>No</td>\n",
       "      <td>No</td>\n",
       "      <td>Yes</td>\n",
       "      <td>Yes</td>\n",
       "      <td>DSL</td>\n",
       "      <td>Yes</td>\n",
       "      <td>No</td>\n",
       "      <td>No</td>\n",
       "      <td>Yes</td>\n",
       "      <td>No</td>\n",
       "      <td>No</td>\n",
       "      <td>Month-to-month</td>\n",
       "      <td>Yes</td>\n",
       "      <td>Mailed check</td>\n",
       "      <td>0</td>\n",
       "    </tr>\n",
       "    <tr>\n",
       "      <th>4743</th>\n",
       "      <td>59</td>\n",
       "      <td>76.45</td>\n",
       "      <td>4519.5</td>\n",
       "      <td>Female</td>\n",
       "      <td>0</td>\n",
       "      <td>Yes</td>\n",
       "      <td>Yes</td>\n",
       "      <td>Yes</td>\n",
       "      <td>Yes</td>\n",
       "      <td>DSL</td>\n",
       "      <td>Yes</td>\n",
       "      <td>No</td>\n",
       "      <td>Yes</td>\n",
       "      <td>Yes</td>\n",
       "      <td>Yes</td>\n",
       "      <td>No</td>\n",
       "      <td>Two year</td>\n",
       "      <td>Yes</td>\n",
       "      <td>Mailed check</td>\n",
       "      <td>0</td>\n",
       "    </tr>\n",
       "  </tbody>\n",
       "</table>\n",
       "</div>"
      ],
      "text/plain": [
       "      ClientPeriod  MonthlySpending TotalSpent     Sex  IsSeniorCitizen  \\\n",
       "3561            12            85.15     979.05  Female                0   \n",
       "2678            72            84.20    5986.55  Female                0   \n",
       "3962             2            56.55     118.25  Female                1   \n",
       "663             22            59.05     1253.5  Female                0   \n",
       "4743            59            76.45     4519.5  Female                0   \n",
       "\n",
       "     HasPartner HasChild HasPhoneService HasMultiplePhoneNumbers  \\\n",
       "3561         No       No             Yes                      No   \n",
       "2678        Yes      Yes             Yes                     Yes   \n",
       "3962         No       No             Yes                     Yes   \n",
       "663          No       No             Yes                     Yes   \n",
       "4743        Yes      Yes             Yes                     Yes   \n",
       "\n",
       "     HasInternetService HasOnlineSecurityService HasOnlineBackup  \\\n",
       "3561        Fiber optic                      Yes              No   \n",
       "2678                DSL                      Yes              No   \n",
       "3962                DSL                       No             Yes   \n",
       "663                 DSL                      Yes              No   \n",
       "4743                DSL                      Yes              No   \n",
       "\n",
       "     HasDeviceProtection HasTechSupportAccess HasOnlineTV  \\\n",
       "3561                  No                   No         Yes   \n",
       "2678                 Yes                  Yes         Yes   \n",
       "3962                  No                   No          No   \n",
       "663                   No                  Yes          No   \n",
       "4743                 Yes                  Yes         Yes   \n",
       "\n",
       "     HasMovieSubscription HasContractPhone IsBillingPaperless  \\\n",
       "3561                   No         One year                Yes   \n",
       "2678                  Yes         Two year                Yes   \n",
       "3962                   No   Month-to-month                Yes   \n",
       "663                    No   Month-to-month                Yes   \n",
       "4743                   No         Two year                Yes   \n",
       "\n",
       "                  PaymentMethod  Churn  \n",
       "3561    Credit card (automatic)      0  \n",
       "2678  Bank transfer (automatic)      0  \n",
       "3962    Credit card (automatic)      0  \n",
       "663                Mailed check      0  \n",
       "4743               Mailed check      0  "
      ]
     },
     "execution_count": 7,
     "metadata": {},
     "output_type": "execute_result"
    }
   ],
   "source": [
    "data.sample(5)"
   ]
  },
  {
   "cell_type": "markdown",
   "metadata": {},
   "source": [
    "Поле TotalSpent записано как object, хотя на самом деле это число. Преобразуем..."
   ]
  },
  {
   "cell_type": "code",
   "execution_count": 8,
   "metadata": {
    "execution": {
     "iopub.execute_input": "2023-03-28T07:06:48.526480Z",
     "iopub.status.busy": "2023-03-28T07:06:48.526144Z",
     "iopub.status.idle": "2023-03-28T07:06:48.536320Z",
     "shell.execute_reply": "2023-03-28T07:06:48.535167Z",
     "shell.execute_reply.started": "2023-03-28T07:06:48.526447Z"
    }
   },
   "outputs": [],
   "source": [
    "data['TotalSpent'] = pd.to_numeric(data.TotalSpent.str.strip())"
   ]
  },
  {
   "cell_type": "markdown",
   "metadata": {},
   "source": [
    "Теперь посмотрим на пропуски..."
   ]
  },
  {
   "cell_type": "code",
   "execution_count": 9,
   "metadata": {
    "execution": {
     "iopub.execute_input": "2023-03-28T07:06:48.538105Z",
     "iopub.status.busy": "2023-03-28T07:06:48.537626Z",
     "iopub.status.idle": "2023-03-28T07:06:48.555245Z",
     "shell.execute_reply": "2023-03-28T07:06:48.554013Z",
     "shell.execute_reply.started": "2023-03-28T07:06:48.538069Z"
    },
    "id": "tHC6gWabEEZA"
   },
   "outputs": [
    {
     "data": {
      "text/plain": [
       "ClientPeriod                0\n",
       "MonthlySpending             0\n",
       "TotalSpent                  9\n",
       "Sex                         0\n",
       "IsSeniorCitizen             0\n",
       "HasPartner                  0\n",
       "HasChild                    0\n",
       "HasPhoneService             0\n",
       "HasMultiplePhoneNumbers     0\n",
       "HasInternetService          0\n",
       "HasOnlineSecurityService    0\n",
       "HasOnlineBackup             0\n",
       "HasDeviceProtection         0\n",
       "HasTechSupportAccess        0\n",
       "HasOnlineTV                 0\n",
       "HasMovieSubscription        0\n",
       "HasContractPhone            0\n",
       "IsBillingPaperless          0\n",
       "PaymentMethod               0\n",
       "Churn                       0\n",
       "dtype: int64"
      ]
     },
     "execution_count": 9,
     "metadata": {},
     "output_type": "execute_result"
    }
   ],
   "source": [
    "data.isna().sum()"
   ]
  },
  {
   "cell_type": "code",
   "execution_count": 10,
   "metadata": {
    "execution": {
     "iopub.execute_input": "2023-03-28T07:06:48.557322Z",
     "iopub.status.busy": "2023-03-28T07:06:48.556941Z",
     "iopub.status.idle": "2023-03-28T07:06:48.585655Z",
     "shell.execute_reply": "2023-03-28T07:06:48.584761Z",
     "shell.execute_reply.started": "2023-03-28T07:06:48.557284Z"
    }
   },
   "outputs": [
    {
     "data": {
      "text/html": [
       "<div>\n",
       "<style scoped>\n",
       "    .dataframe tbody tr th:only-of-type {\n",
       "        vertical-align: middle;\n",
       "    }\n",
       "\n",
       "    .dataframe tbody tr th {\n",
       "        vertical-align: top;\n",
       "    }\n",
       "\n",
       "    .dataframe thead th {\n",
       "        text-align: right;\n",
       "    }\n",
       "</style>\n",
       "<table border=\"1\" class=\"dataframe\">\n",
       "  <thead>\n",
       "    <tr style=\"text-align: right;\">\n",
       "      <th></th>\n",
       "      <th>ClientPeriod</th>\n",
       "      <th>MonthlySpending</th>\n",
       "      <th>TotalSpent</th>\n",
       "      <th>Sex</th>\n",
       "      <th>IsSeniorCitizen</th>\n",
       "      <th>HasPartner</th>\n",
       "      <th>HasChild</th>\n",
       "      <th>HasPhoneService</th>\n",
       "      <th>HasMultiplePhoneNumbers</th>\n",
       "      <th>HasInternetService</th>\n",
       "      <th>HasOnlineSecurityService</th>\n",
       "      <th>HasOnlineBackup</th>\n",
       "      <th>HasDeviceProtection</th>\n",
       "      <th>HasTechSupportAccess</th>\n",
       "      <th>HasOnlineTV</th>\n",
       "      <th>HasMovieSubscription</th>\n",
       "      <th>HasContractPhone</th>\n",
       "      <th>IsBillingPaperless</th>\n",
       "      <th>PaymentMethod</th>\n",
       "      <th>Churn</th>\n",
       "    </tr>\n",
       "  </thead>\n",
       "  <tbody>\n",
       "    <tr>\n",
       "      <th>1048</th>\n",
       "      <td>0</td>\n",
       "      <td>25.75</td>\n",
       "      <td>NaN</td>\n",
       "      <td>Male</td>\n",
       "      <td>0</td>\n",
       "      <td>Yes</td>\n",
       "      <td>Yes</td>\n",
       "      <td>Yes</td>\n",
       "      <td>Yes</td>\n",
       "      <td>No</td>\n",
       "      <td>No internet service</td>\n",
       "      <td>No internet service</td>\n",
       "      <td>No internet service</td>\n",
       "      <td>No internet service</td>\n",
       "      <td>No internet service</td>\n",
       "      <td>No internet service</td>\n",
       "      <td>Two year</td>\n",
       "      <td>No</td>\n",
       "      <td>Mailed check</td>\n",
       "      <td>0</td>\n",
       "    </tr>\n",
       "    <tr>\n",
       "      <th>1707</th>\n",
       "      <td>0</td>\n",
       "      <td>73.35</td>\n",
       "      <td>NaN</td>\n",
       "      <td>Female</td>\n",
       "      <td>0</td>\n",
       "      <td>Yes</td>\n",
       "      <td>Yes</td>\n",
       "      <td>Yes</td>\n",
       "      <td>Yes</td>\n",
       "      <td>DSL</td>\n",
       "      <td>No</td>\n",
       "      <td>Yes</td>\n",
       "      <td>Yes</td>\n",
       "      <td>Yes</td>\n",
       "      <td>Yes</td>\n",
       "      <td>No</td>\n",
       "      <td>Two year</td>\n",
       "      <td>No</td>\n",
       "      <td>Mailed check</td>\n",
       "      <td>0</td>\n",
       "    </tr>\n",
       "    <tr>\n",
       "      <th>2543</th>\n",
       "      <td>0</td>\n",
       "      <td>19.70</td>\n",
       "      <td>NaN</td>\n",
       "      <td>Male</td>\n",
       "      <td>0</td>\n",
       "      <td>Yes</td>\n",
       "      <td>Yes</td>\n",
       "      <td>Yes</td>\n",
       "      <td>No</td>\n",
       "      <td>No</td>\n",
       "      <td>No internet service</td>\n",
       "      <td>No internet service</td>\n",
       "      <td>No internet service</td>\n",
       "      <td>No internet service</td>\n",
       "      <td>No internet service</td>\n",
       "      <td>No internet service</td>\n",
       "      <td>One year</td>\n",
       "      <td>Yes</td>\n",
       "      <td>Mailed check</td>\n",
       "      <td>0</td>\n",
       "    </tr>\n",
       "    <tr>\n",
       "      <th>3078</th>\n",
       "      <td>0</td>\n",
       "      <td>80.85</td>\n",
       "      <td>NaN</td>\n",
       "      <td>Female</td>\n",
       "      <td>0</td>\n",
       "      <td>Yes</td>\n",
       "      <td>Yes</td>\n",
       "      <td>Yes</td>\n",
       "      <td>No</td>\n",
       "      <td>DSL</td>\n",
       "      <td>Yes</td>\n",
       "      <td>Yes</td>\n",
       "      <td>Yes</td>\n",
       "      <td>No</td>\n",
       "      <td>Yes</td>\n",
       "      <td>Yes</td>\n",
       "      <td>Two year</td>\n",
       "      <td>No</td>\n",
       "      <td>Mailed check</td>\n",
       "      <td>0</td>\n",
       "    </tr>\n",
       "    <tr>\n",
       "      <th>3697</th>\n",
       "      <td>0</td>\n",
       "      <td>20.00</td>\n",
       "      <td>NaN</td>\n",
       "      <td>Female</td>\n",
       "      <td>0</td>\n",
       "      <td>Yes</td>\n",
       "      <td>Yes</td>\n",
       "      <td>Yes</td>\n",
       "      <td>No</td>\n",
       "      <td>No</td>\n",
       "      <td>No internet service</td>\n",
       "      <td>No internet service</td>\n",
       "      <td>No internet service</td>\n",
       "      <td>No internet service</td>\n",
       "      <td>No internet service</td>\n",
       "      <td>No internet service</td>\n",
       "      <td>Two year</td>\n",
       "      <td>No</td>\n",
       "      <td>Mailed check</td>\n",
       "      <td>0</td>\n",
       "    </tr>\n",
       "    <tr>\n",
       "      <th>4002</th>\n",
       "      <td>0</td>\n",
       "      <td>61.90</td>\n",
       "      <td>NaN</td>\n",
       "      <td>Male</td>\n",
       "      <td>0</td>\n",
       "      <td>No</td>\n",
       "      <td>Yes</td>\n",
       "      <td>Yes</td>\n",
       "      <td>Yes</td>\n",
       "      <td>DSL</td>\n",
       "      <td>Yes</td>\n",
       "      <td>Yes</td>\n",
       "      <td>No</td>\n",
       "      <td>Yes</td>\n",
       "      <td>No</td>\n",
       "      <td>No</td>\n",
       "      <td>Two year</td>\n",
       "      <td>Yes</td>\n",
       "      <td>Bank transfer (automatic)</td>\n",
       "      <td>0</td>\n",
       "    </tr>\n",
       "    <tr>\n",
       "      <th>4326</th>\n",
       "      <td>0</td>\n",
       "      <td>25.35</td>\n",
       "      <td>NaN</td>\n",
       "      <td>Male</td>\n",
       "      <td>0</td>\n",
       "      <td>Yes</td>\n",
       "      <td>Yes</td>\n",
       "      <td>Yes</td>\n",
       "      <td>Yes</td>\n",
       "      <td>No</td>\n",
       "      <td>No internet service</td>\n",
       "      <td>No internet service</td>\n",
       "      <td>No internet service</td>\n",
       "      <td>No internet service</td>\n",
       "      <td>No internet service</td>\n",
       "      <td>No internet service</td>\n",
       "      <td>Two year</td>\n",
       "      <td>No</td>\n",
       "      <td>Mailed check</td>\n",
       "      <td>0</td>\n",
       "    </tr>\n",
       "    <tr>\n",
       "      <th>4551</th>\n",
       "      <td>0</td>\n",
       "      <td>52.55</td>\n",
       "      <td>NaN</td>\n",
       "      <td>Female</td>\n",
       "      <td>0</td>\n",
       "      <td>Yes</td>\n",
       "      <td>Yes</td>\n",
       "      <td>No</td>\n",
       "      <td>No phone service</td>\n",
       "      <td>DSL</td>\n",
       "      <td>Yes</td>\n",
       "      <td>No</td>\n",
       "      <td>Yes</td>\n",
       "      <td>Yes</td>\n",
       "      <td>Yes</td>\n",
       "      <td>No</td>\n",
       "      <td>Two year</td>\n",
       "      <td>Yes</td>\n",
       "      <td>Bank transfer (automatic)</td>\n",
       "      <td>0</td>\n",
       "    </tr>\n",
       "    <tr>\n",
       "      <th>4598</th>\n",
       "      <td>0</td>\n",
       "      <td>56.05</td>\n",
       "      <td>NaN</td>\n",
       "      <td>Female</td>\n",
       "      <td>0</td>\n",
       "      <td>Yes</td>\n",
       "      <td>Yes</td>\n",
       "      <td>No</td>\n",
       "      <td>No phone service</td>\n",
       "      <td>DSL</td>\n",
       "      <td>Yes</td>\n",
       "      <td>Yes</td>\n",
       "      <td>Yes</td>\n",
       "      <td>Yes</td>\n",
       "      <td>Yes</td>\n",
       "      <td>No</td>\n",
       "      <td>Two year</td>\n",
       "      <td>No</td>\n",
       "      <td>Credit card (automatic)</td>\n",
       "      <td>0</td>\n",
       "    </tr>\n",
       "  </tbody>\n",
       "</table>\n",
       "</div>"
      ],
      "text/plain": [
       "      ClientPeriod  MonthlySpending  TotalSpent     Sex  IsSeniorCitizen  \\\n",
       "1048             0            25.75         NaN    Male                0   \n",
       "1707             0            73.35         NaN  Female                0   \n",
       "2543             0            19.70         NaN    Male                0   \n",
       "3078             0            80.85         NaN  Female                0   \n",
       "3697             0            20.00         NaN  Female                0   \n",
       "4002             0            61.90         NaN    Male                0   \n",
       "4326             0            25.35         NaN    Male                0   \n",
       "4551             0            52.55         NaN  Female                0   \n",
       "4598             0            56.05         NaN  Female                0   \n",
       "\n",
       "     HasPartner HasChild HasPhoneService HasMultiplePhoneNumbers  \\\n",
       "1048        Yes      Yes             Yes                     Yes   \n",
       "1707        Yes      Yes             Yes                     Yes   \n",
       "2543        Yes      Yes             Yes                      No   \n",
       "3078        Yes      Yes             Yes                      No   \n",
       "3697        Yes      Yes             Yes                      No   \n",
       "4002         No      Yes             Yes                     Yes   \n",
       "4326        Yes      Yes             Yes                     Yes   \n",
       "4551        Yes      Yes              No        No phone service   \n",
       "4598        Yes      Yes              No        No phone service   \n",
       "\n",
       "     HasInternetService HasOnlineSecurityService      HasOnlineBackup  \\\n",
       "1048                 No      No internet service  No internet service   \n",
       "1707                DSL                       No                  Yes   \n",
       "2543                 No      No internet service  No internet service   \n",
       "3078                DSL                      Yes                  Yes   \n",
       "3697                 No      No internet service  No internet service   \n",
       "4002                DSL                      Yes                  Yes   \n",
       "4326                 No      No internet service  No internet service   \n",
       "4551                DSL                      Yes                   No   \n",
       "4598                DSL                      Yes                  Yes   \n",
       "\n",
       "      HasDeviceProtection HasTechSupportAccess          HasOnlineTV  \\\n",
       "1048  No internet service  No internet service  No internet service   \n",
       "1707                  Yes                  Yes                  Yes   \n",
       "2543  No internet service  No internet service  No internet service   \n",
       "3078                  Yes                   No                  Yes   \n",
       "3697  No internet service  No internet service  No internet service   \n",
       "4002                   No                  Yes                   No   \n",
       "4326  No internet service  No internet service  No internet service   \n",
       "4551                  Yes                  Yes                  Yes   \n",
       "4598                  Yes                  Yes                  Yes   \n",
       "\n",
       "     HasMovieSubscription HasContractPhone IsBillingPaperless  \\\n",
       "1048  No internet service         Two year                 No   \n",
       "1707                   No         Two year                 No   \n",
       "2543  No internet service         One year                Yes   \n",
       "3078                  Yes         Two year                 No   \n",
       "3697  No internet service         Two year                 No   \n",
       "4002                   No         Two year                Yes   \n",
       "4326  No internet service         Two year                 No   \n",
       "4551                   No         Two year                Yes   \n",
       "4598                   No         Two year                 No   \n",
       "\n",
       "                  PaymentMethod  Churn  \n",
       "1048               Mailed check      0  \n",
       "1707               Mailed check      0  \n",
       "2543               Mailed check      0  \n",
       "3078               Mailed check      0  \n",
       "3697               Mailed check      0  \n",
       "4002  Bank transfer (automatic)      0  \n",
       "4326               Mailed check      0  \n",
       "4551  Bank transfer (automatic)      0  \n",
       "4598    Credit card (automatic)      0  "
      ]
     },
     "execution_count": 10,
     "metadata": {},
     "output_type": "execute_result"
    }
   ],
   "source": [
    "data[data['TotalSpent'].isna()]"
   ]
  },
  {
   "cell_type": "code",
   "execution_count": 11,
   "metadata": {
    "execution": {
     "iopub.execute_input": "2023-03-28T07:06:48.589134Z",
     "iopub.status.busy": "2023-03-28T07:06:48.588352Z",
     "iopub.status.idle": "2023-03-28T07:06:48.609672Z",
     "shell.execute_reply": "2023-03-28T07:06:48.608724Z",
     "shell.execute_reply.started": "2023-03-28T07:06:48.589097Z"
    }
   },
   "outputs": [
    {
     "data": {
      "text/html": [
       "<div>\n",
       "<style scoped>\n",
       "    .dataframe tbody tr th:only-of-type {\n",
       "        vertical-align: middle;\n",
       "    }\n",
       "\n",
       "    .dataframe tbody tr th {\n",
       "        vertical-align: top;\n",
       "    }\n",
       "\n",
       "    .dataframe thead th {\n",
       "        text-align: right;\n",
       "    }\n",
       "</style>\n",
       "<table border=\"1\" class=\"dataframe\">\n",
       "  <thead>\n",
       "    <tr style=\"text-align: right;\">\n",
       "      <th></th>\n",
       "      <th>TotalSpent</th>\n",
       "      <th>MonthlySpending</th>\n",
       "    </tr>\n",
       "  </thead>\n",
       "  <tbody>\n",
       "    <tr>\n",
       "      <th>2</th>\n",
       "      <td>75.90</td>\n",
       "      <td>75.90</td>\n",
       "    </tr>\n",
       "    <tr>\n",
       "      <th>7</th>\n",
       "      <td>45.70</td>\n",
       "      <td>45.70</td>\n",
       "    </tr>\n",
       "    <tr>\n",
       "      <th>51</th>\n",
       "      <td>74.45</td>\n",
       "      <td>74.45</td>\n",
       "    </tr>\n",
       "    <tr>\n",
       "      <th>63</th>\n",
       "      <td>48.45</td>\n",
       "      <td>48.45</td>\n",
       "    </tr>\n",
       "    <tr>\n",
       "      <th>67</th>\n",
       "      <td>24.40</td>\n",
       "      <td>24.40</td>\n",
       "    </tr>\n",
       "    <tr>\n",
       "      <th>...</th>\n",
       "      <td>...</td>\n",
       "      <td>...</td>\n",
       "    </tr>\n",
       "    <tr>\n",
       "      <th>5192</th>\n",
       "      <td>69.65</td>\n",
       "      <td>69.65</td>\n",
       "    </tr>\n",
       "    <tr>\n",
       "      <th>5199</th>\n",
       "      <td>19.70</td>\n",
       "      <td>19.70</td>\n",
       "    </tr>\n",
       "    <tr>\n",
       "      <th>5257</th>\n",
       "      <td>19.20</td>\n",
       "      <td>19.20</td>\n",
       "    </tr>\n",
       "    <tr>\n",
       "      <th>5265</th>\n",
       "      <td>85.80</td>\n",
       "      <td>85.80</td>\n",
       "    </tr>\n",
       "    <tr>\n",
       "      <th>5279</th>\n",
       "      <td>55.05</td>\n",
       "      <td>55.05</td>\n",
       "    </tr>\n",
       "  </tbody>\n",
       "</table>\n",
       "<p>457 rows × 2 columns</p>\n",
       "</div>"
      ],
      "text/plain": [
       "      TotalSpent  MonthlySpending\n",
       "2          75.90            75.90\n",
       "7          45.70            45.70\n",
       "51         74.45            74.45\n",
       "63         48.45            48.45\n",
       "67         24.40            24.40\n",
       "...          ...              ...\n",
       "5192       69.65            69.65\n",
       "5199       19.70            19.70\n",
       "5257       19.20            19.20\n",
       "5265       85.80            85.80\n",
       "5279       55.05            55.05\n",
       "\n",
       "[457 rows x 2 columns]"
      ]
     },
     "execution_count": 11,
     "metadata": {},
     "output_type": "execute_result"
    }
   ],
   "source": [
    "data.query('ClientPeriod == 1')[['TotalSpent', 'MonthlySpending']]"
   ]
  },
  {
   "cell_type": "markdown",
   "metadata": {},
   "source": [
    "NaN в TotalSpending - это новые клиенты. Можно заменить NaN на 0 или иное какое малое число, например, на половину от месячных расходов. \n",
    "Заполним пропуски, а потом посмотрим на дубликаты:"
   ]
  },
  {
   "cell_type": "code",
   "execution_count": 12,
   "metadata": {
    "execution": {
     "iopub.execute_input": "2023-03-28T07:06:48.612493Z",
     "iopub.status.busy": "2023-03-28T07:06:48.611570Z",
     "iopub.status.idle": "2023-03-28T07:06:48.639747Z",
     "shell.execute_reply": "2023-03-28T07:06:48.638858Z",
     "shell.execute_reply.started": "2023-03-28T07:06:48.612458Z"
    }
   },
   "outputs": [
    {
     "data": {
      "text/html": [
       "<div>\n",
       "<style scoped>\n",
       "    .dataframe tbody tr th:only-of-type {\n",
       "        vertical-align: middle;\n",
       "    }\n",
       "\n",
       "    .dataframe tbody tr th {\n",
       "        vertical-align: top;\n",
       "    }\n",
       "\n",
       "    .dataframe thead th {\n",
       "        text-align: right;\n",
       "    }\n",
       "</style>\n",
       "<table border=\"1\" class=\"dataframe\">\n",
       "  <thead>\n",
       "    <tr style=\"text-align: right;\">\n",
       "      <th></th>\n",
       "      <th>ClientPeriod</th>\n",
       "      <th>MonthlySpending</th>\n",
       "      <th>TotalSpent</th>\n",
       "      <th>Sex</th>\n",
       "      <th>IsSeniorCitizen</th>\n",
       "      <th>HasPartner</th>\n",
       "      <th>HasChild</th>\n",
       "      <th>HasPhoneService</th>\n",
       "      <th>HasMultiplePhoneNumbers</th>\n",
       "      <th>HasInternetService</th>\n",
       "      <th>HasOnlineSecurityService</th>\n",
       "      <th>HasOnlineBackup</th>\n",
       "      <th>HasDeviceProtection</th>\n",
       "      <th>HasTechSupportAccess</th>\n",
       "      <th>HasOnlineTV</th>\n",
       "      <th>HasMovieSubscription</th>\n",
       "      <th>HasContractPhone</th>\n",
       "      <th>IsBillingPaperless</th>\n",
       "      <th>PaymentMethod</th>\n",
       "      <th>Churn</th>\n",
       "    </tr>\n",
       "  </thead>\n",
       "  <tbody>\n",
       "    <tr>\n",
       "      <th>1048</th>\n",
       "      <td>0</td>\n",
       "      <td>25.75</td>\n",
       "      <td>12.875</td>\n",
       "      <td>Male</td>\n",
       "      <td>0</td>\n",
       "      <td>Yes</td>\n",
       "      <td>Yes</td>\n",
       "      <td>Yes</td>\n",
       "      <td>Yes</td>\n",
       "      <td>No</td>\n",
       "      <td>No internet service</td>\n",
       "      <td>No internet service</td>\n",
       "      <td>No internet service</td>\n",
       "      <td>No internet service</td>\n",
       "      <td>No internet service</td>\n",
       "      <td>No internet service</td>\n",
       "      <td>Two year</td>\n",
       "      <td>No</td>\n",
       "      <td>Mailed check</td>\n",
       "      <td>0</td>\n",
       "    </tr>\n",
       "    <tr>\n",
       "      <th>1707</th>\n",
       "      <td>0</td>\n",
       "      <td>73.35</td>\n",
       "      <td>36.675</td>\n",
       "      <td>Female</td>\n",
       "      <td>0</td>\n",
       "      <td>Yes</td>\n",
       "      <td>Yes</td>\n",
       "      <td>Yes</td>\n",
       "      <td>Yes</td>\n",
       "      <td>DSL</td>\n",
       "      <td>No</td>\n",
       "      <td>Yes</td>\n",
       "      <td>Yes</td>\n",
       "      <td>Yes</td>\n",
       "      <td>Yes</td>\n",
       "      <td>No</td>\n",
       "      <td>Two year</td>\n",
       "      <td>No</td>\n",
       "      <td>Mailed check</td>\n",
       "      <td>0</td>\n",
       "    </tr>\n",
       "    <tr>\n",
       "      <th>2543</th>\n",
       "      <td>0</td>\n",
       "      <td>19.70</td>\n",
       "      <td>9.850</td>\n",
       "      <td>Male</td>\n",
       "      <td>0</td>\n",
       "      <td>Yes</td>\n",
       "      <td>Yes</td>\n",
       "      <td>Yes</td>\n",
       "      <td>No</td>\n",
       "      <td>No</td>\n",
       "      <td>No internet service</td>\n",
       "      <td>No internet service</td>\n",
       "      <td>No internet service</td>\n",
       "      <td>No internet service</td>\n",
       "      <td>No internet service</td>\n",
       "      <td>No internet service</td>\n",
       "      <td>One year</td>\n",
       "      <td>Yes</td>\n",
       "      <td>Mailed check</td>\n",
       "      <td>0</td>\n",
       "    </tr>\n",
       "    <tr>\n",
       "      <th>3078</th>\n",
       "      <td>0</td>\n",
       "      <td>80.85</td>\n",
       "      <td>40.425</td>\n",
       "      <td>Female</td>\n",
       "      <td>0</td>\n",
       "      <td>Yes</td>\n",
       "      <td>Yes</td>\n",
       "      <td>Yes</td>\n",
       "      <td>No</td>\n",
       "      <td>DSL</td>\n",
       "      <td>Yes</td>\n",
       "      <td>Yes</td>\n",
       "      <td>Yes</td>\n",
       "      <td>No</td>\n",
       "      <td>Yes</td>\n",
       "      <td>Yes</td>\n",
       "      <td>Two year</td>\n",
       "      <td>No</td>\n",
       "      <td>Mailed check</td>\n",
       "      <td>0</td>\n",
       "    </tr>\n",
       "    <tr>\n",
       "      <th>3697</th>\n",
       "      <td>0</td>\n",
       "      <td>20.00</td>\n",
       "      <td>10.000</td>\n",
       "      <td>Female</td>\n",
       "      <td>0</td>\n",
       "      <td>Yes</td>\n",
       "      <td>Yes</td>\n",
       "      <td>Yes</td>\n",
       "      <td>No</td>\n",
       "      <td>No</td>\n",
       "      <td>No internet service</td>\n",
       "      <td>No internet service</td>\n",
       "      <td>No internet service</td>\n",
       "      <td>No internet service</td>\n",
       "      <td>No internet service</td>\n",
       "      <td>No internet service</td>\n",
       "      <td>Two year</td>\n",
       "      <td>No</td>\n",
       "      <td>Mailed check</td>\n",
       "      <td>0</td>\n",
       "    </tr>\n",
       "    <tr>\n",
       "      <th>4002</th>\n",
       "      <td>0</td>\n",
       "      <td>61.90</td>\n",
       "      <td>30.950</td>\n",
       "      <td>Male</td>\n",
       "      <td>0</td>\n",
       "      <td>No</td>\n",
       "      <td>Yes</td>\n",
       "      <td>Yes</td>\n",
       "      <td>Yes</td>\n",
       "      <td>DSL</td>\n",
       "      <td>Yes</td>\n",
       "      <td>Yes</td>\n",
       "      <td>No</td>\n",
       "      <td>Yes</td>\n",
       "      <td>No</td>\n",
       "      <td>No</td>\n",
       "      <td>Two year</td>\n",
       "      <td>Yes</td>\n",
       "      <td>Bank transfer (automatic)</td>\n",
       "      <td>0</td>\n",
       "    </tr>\n",
       "    <tr>\n",
       "      <th>4326</th>\n",
       "      <td>0</td>\n",
       "      <td>25.35</td>\n",
       "      <td>12.675</td>\n",
       "      <td>Male</td>\n",
       "      <td>0</td>\n",
       "      <td>Yes</td>\n",
       "      <td>Yes</td>\n",
       "      <td>Yes</td>\n",
       "      <td>Yes</td>\n",
       "      <td>No</td>\n",
       "      <td>No internet service</td>\n",
       "      <td>No internet service</td>\n",
       "      <td>No internet service</td>\n",
       "      <td>No internet service</td>\n",
       "      <td>No internet service</td>\n",
       "      <td>No internet service</td>\n",
       "      <td>Two year</td>\n",
       "      <td>No</td>\n",
       "      <td>Mailed check</td>\n",
       "      <td>0</td>\n",
       "    </tr>\n",
       "    <tr>\n",
       "      <th>4551</th>\n",
       "      <td>0</td>\n",
       "      <td>52.55</td>\n",
       "      <td>26.275</td>\n",
       "      <td>Female</td>\n",
       "      <td>0</td>\n",
       "      <td>Yes</td>\n",
       "      <td>Yes</td>\n",
       "      <td>No</td>\n",
       "      <td>No phone service</td>\n",
       "      <td>DSL</td>\n",
       "      <td>Yes</td>\n",
       "      <td>No</td>\n",
       "      <td>Yes</td>\n",
       "      <td>Yes</td>\n",
       "      <td>Yes</td>\n",
       "      <td>No</td>\n",
       "      <td>Two year</td>\n",
       "      <td>Yes</td>\n",
       "      <td>Bank transfer (automatic)</td>\n",
       "      <td>0</td>\n",
       "    </tr>\n",
       "    <tr>\n",
       "      <th>4598</th>\n",
       "      <td>0</td>\n",
       "      <td>56.05</td>\n",
       "      <td>28.025</td>\n",
       "      <td>Female</td>\n",
       "      <td>0</td>\n",
       "      <td>Yes</td>\n",
       "      <td>Yes</td>\n",
       "      <td>No</td>\n",
       "      <td>No phone service</td>\n",
       "      <td>DSL</td>\n",
       "      <td>Yes</td>\n",
       "      <td>Yes</td>\n",
       "      <td>Yes</td>\n",
       "      <td>Yes</td>\n",
       "      <td>Yes</td>\n",
       "      <td>No</td>\n",
       "      <td>Two year</td>\n",
       "      <td>No</td>\n",
       "      <td>Credit card (automatic)</td>\n",
       "      <td>0</td>\n",
       "    </tr>\n",
       "  </tbody>\n",
       "</table>\n",
       "</div>"
      ],
      "text/plain": [
       "      ClientPeriod  MonthlySpending  TotalSpent     Sex  IsSeniorCitizen  \\\n",
       "1048             0            25.75      12.875    Male                0   \n",
       "1707             0            73.35      36.675  Female                0   \n",
       "2543             0            19.70       9.850    Male                0   \n",
       "3078             0            80.85      40.425  Female                0   \n",
       "3697             0            20.00      10.000  Female                0   \n",
       "4002             0            61.90      30.950    Male                0   \n",
       "4326             0            25.35      12.675    Male                0   \n",
       "4551             0            52.55      26.275  Female                0   \n",
       "4598             0            56.05      28.025  Female                0   \n",
       "\n",
       "     HasPartner HasChild HasPhoneService HasMultiplePhoneNumbers  \\\n",
       "1048        Yes      Yes             Yes                     Yes   \n",
       "1707        Yes      Yes             Yes                     Yes   \n",
       "2543        Yes      Yes             Yes                      No   \n",
       "3078        Yes      Yes             Yes                      No   \n",
       "3697        Yes      Yes             Yes                      No   \n",
       "4002         No      Yes             Yes                     Yes   \n",
       "4326        Yes      Yes             Yes                     Yes   \n",
       "4551        Yes      Yes              No        No phone service   \n",
       "4598        Yes      Yes              No        No phone service   \n",
       "\n",
       "     HasInternetService HasOnlineSecurityService      HasOnlineBackup  \\\n",
       "1048                 No      No internet service  No internet service   \n",
       "1707                DSL                       No                  Yes   \n",
       "2543                 No      No internet service  No internet service   \n",
       "3078                DSL                      Yes                  Yes   \n",
       "3697                 No      No internet service  No internet service   \n",
       "4002                DSL                      Yes                  Yes   \n",
       "4326                 No      No internet service  No internet service   \n",
       "4551                DSL                      Yes                   No   \n",
       "4598                DSL                      Yes                  Yes   \n",
       "\n",
       "      HasDeviceProtection HasTechSupportAccess          HasOnlineTV  \\\n",
       "1048  No internet service  No internet service  No internet service   \n",
       "1707                  Yes                  Yes                  Yes   \n",
       "2543  No internet service  No internet service  No internet service   \n",
       "3078                  Yes                   No                  Yes   \n",
       "3697  No internet service  No internet service  No internet service   \n",
       "4002                   No                  Yes                   No   \n",
       "4326  No internet service  No internet service  No internet service   \n",
       "4551                  Yes                  Yes                  Yes   \n",
       "4598                  Yes                  Yes                  Yes   \n",
       "\n",
       "     HasMovieSubscription HasContractPhone IsBillingPaperless  \\\n",
       "1048  No internet service         Two year                 No   \n",
       "1707                   No         Two year                 No   \n",
       "2543  No internet service         One year                Yes   \n",
       "3078                  Yes         Two year                 No   \n",
       "3697  No internet service         Two year                 No   \n",
       "4002                   No         Two year                Yes   \n",
       "4326  No internet service         Two year                 No   \n",
       "4551                   No         Two year                Yes   \n",
       "4598                   No         Two year                 No   \n",
       "\n",
       "                  PaymentMethod  Churn  \n",
       "1048               Mailed check      0  \n",
       "1707               Mailed check      0  \n",
       "2543               Mailed check      0  \n",
       "3078               Mailed check      0  \n",
       "3697               Mailed check      0  \n",
       "4002  Bank transfer (automatic)      0  \n",
       "4326               Mailed check      0  \n",
       "4551  Bank transfer (automatic)      0  \n",
       "4598    Credit card (automatic)      0  "
      ]
     },
     "execution_count": 12,
     "metadata": {},
     "output_type": "execute_result"
    }
   ],
   "source": [
    "#заполним половиной месячного расхода\n",
    "data.loc[data['TotalSpent'].isna(), 'TotalSpent'] = data.loc[data['TotalSpent'].isna(), 'MonthlySpending'] /2\n",
    "data[data.ClientPeriod == 0]"
   ]
  },
  {
   "cell_type": "code",
   "execution_count": 13,
   "metadata": {
    "execution": {
     "iopub.execute_input": "2023-03-28T07:06:48.643266Z",
     "iopub.status.busy": "2023-03-28T07:06:48.643011Z",
     "iopub.status.idle": "2023-03-28T07:06:48.661169Z",
     "shell.execute_reply": "2023-03-28T07:06:48.660033Z",
     "shell.execute_reply.started": "2023-03-28T07:06:48.643242Z"
    }
   },
   "outputs": [
    {
     "data": {
      "text/plain": [
       "14"
      ]
     },
     "execution_count": 13,
     "metadata": {},
     "output_type": "execute_result"
    }
   ],
   "source": [
    "data.duplicated().sum() #есть 14 полностью дублированных строк. Удалим их (дубли)."
   ]
  },
  {
   "cell_type": "code",
   "execution_count": 14,
   "metadata": {
    "execution": {
     "iopub.execute_input": "2023-03-28T07:06:48.663383Z",
     "iopub.status.busy": "2023-03-28T07:06:48.662965Z",
     "iopub.status.idle": "2023-03-28T07:06:48.719472Z",
     "shell.execute_reply": "2023-03-28T07:06:48.718479Z",
     "shell.execute_reply.started": "2023-03-28T07:06:48.663346Z"
    }
   },
   "outputs": [
    {
     "data": {
      "text/html": [
       "<div>\n",
       "<style scoped>\n",
       "    .dataframe tbody tr th:only-of-type {\n",
       "        vertical-align: middle;\n",
       "    }\n",
       "\n",
       "    .dataframe tbody tr th {\n",
       "        vertical-align: top;\n",
       "    }\n",
       "\n",
       "    .dataframe thead th {\n",
       "        text-align: right;\n",
       "    }\n",
       "</style>\n",
       "<table border=\"1\" class=\"dataframe\">\n",
       "  <thead>\n",
       "    <tr style=\"text-align: right;\">\n",
       "      <th></th>\n",
       "      <th>ClientPeriod</th>\n",
       "      <th>MonthlySpending</th>\n",
       "      <th>TotalSpent</th>\n",
       "      <th>Sex</th>\n",
       "      <th>IsSeniorCitizen</th>\n",
       "      <th>HasPartner</th>\n",
       "      <th>HasChild</th>\n",
       "      <th>HasPhoneService</th>\n",
       "      <th>HasMultiplePhoneNumbers</th>\n",
       "      <th>HasInternetService</th>\n",
       "      <th>HasOnlineSecurityService</th>\n",
       "      <th>HasOnlineBackup</th>\n",
       "      <th>HasDeviceProtection</th>\n",
       "      <th>HasTechSupportAccess</th>\n",
       "      <th>HasOnlineTV</th>\n",
       "      <th>HasMovieSubscription</th>\n",
       "      <th>HasContractPhone</th>\n",
       "      <th>IsBillingPaperless</th>\n",
       "      <th>PaymentMethod</th>\n",
       "      <th>Churn</th>\n",
       "    </tr>\n",
       "  </thead>\n",
       "  <tbody>\n",
       "    <tr>\n",
       "      <th>838</th>\n",
       "      <td>1</td>\n",
       "      <td>19.65</td>\n",
       "      <td>19.65</td>\n",
       "      <td>Female</td>\n",
       "      <td>0</td>\n",
       "      <td>No</td>\n",
       "      <td>No</td>\n",
       "      <td>Yes</td>\n",
       "      <td>No</td>\n",
       "      <td>No</td>\n",
       "      <td>No internet service</td>\n",
       "      <td>No internet service</td>\n",
       "      <td>No internet service</td>\n",
       "      <td>No internet service</td>\n",
       "      <td>No internet service</td>\n",
       "      <td>No internet service</td>\n",
       "      <td>Month-to-month</td>\n",
       "      <td>No</td>\n",
       "      <td>Mailed check</td>\n",
       "      <td>0</td>\n",
       "    </tr>\n",
       "    <tr>\n",
       "      <th>4811</th>\n",
       "      <td>1</td>\n",
       "      <td>19.65</td>\n",
       "      <td>19.65</td>\n",
       "      <td>Female</td>\n",
       "      <td>0</td>\n",
       "      <td>No</td>\n",
       "      <td>No</td>\n",
       "      <td>Yes</td>\n",
       "      <td>No</td>\n",
       "      <td>No</td>\n",
       "      <td>No internet service</td>\n",
       "      <td>No internet service</td>\n",
       "      <td>No internet service</td>\n",
       "      <td>No internet service</td>\n",
       "      <td>No internet service</td>\n",
       "      <td>No internet service</td>\n",
       "      <td>Month-to-month</td>\n",
       "      <td>No</td>\n",
       "      <td>Mailed check</td>\n",
       "      <td>1</td>\n",
       "    </tr>\n",
       "    <tr>\n",
       "      <th>3463</th>\n",
       "      <td>1</td>\n",
       "      <td>19.75</td>\n",
       "      <td>19.75</td>\n",
       "      <td>Male</td>\n",
       "      <td>0</td>\n",
       "      <td>No</td>\n",
       "      <td>No</td>\n",
       "      <td>Yes</td>\n",
       "      <td>No</td>\n",
       "      <td>No</td>\n",
       "      <td>No internet service</td>\n",
       "      <td>No internet service</td>\n",
       "      <td>No internet service</td>\n",
       "      <td>No internet service</td>\n",
       "      <td>No internet service</td>\n",
       "      <td>No internet service</td>\n",
       "      <td>Month-to-month</td>\n",
       "      <td>No</td>\n",
       "      <td>Mailed check</td>\n",
       "      <td>0</td>\n",
       "    </tr>\n",
       "    <tr>\n",
       "      <th>4294</th>\n",
       "      <td>1</td>\n",
       "      <td>19.75</td>\n",
       "      <td>19.75</td>\n",
       "      <td>Male</td>\n",
       "      <td>0</td>\n",
       "      <td>No</td>\n",
       "      <td>No</td>\n",
       "      <td>Yes</td>\n",
       "      <td>No</td>\n",
       "      <td>No</td>\n",
       "      <td>No internet service</td>\n",
       "      <td>No internet service</td>\n",
       "      <td>No internet service</td>\n",
       "      <td>No internet service</td>\n",
       "      <td>No internet service</td>\n",
       "      <td>No internet service</td>\n",
       "      <td>Month-to-month</td>\n",
       "      <td>No</td>\n",
       "      <td>Mailed check</td>\n",
       "      <td>1</td>\n",
       "    </tr>\n",
       "    <tr>\n",
       "      <th>3831</th>\n",
       "      <td>1</td>\n",
       "      <td>20.00</td>\n",
       "      <td>20.00</td>\n",
       "      <td>Male</td>\n",
       "      <td>0</td>\n",
       "      <td>No</td>\n",
       "      <td>No</td>\n",
       "      <td>Yes</td>\n",
       "      <td>No</td>\n",
       "      <td>No</td>\n",
       "      <td>No internet service</td>\n",
       "      <td>No internet service</td>\n",
       "      <td>No internet service</td>\n",
       "      <td>No internet service</td>\n",
       "      <td>No internet service</td>\n",
       "      <td>No internet service</td>\n",
       "      <td>Month-to-month</td>\n",
       "      <td>No</td>\n",
       "      <td>Mailed check</td>\n",
       "      <td>0</td>\n",
       "    </tr>\n",
       "    <tr>\n",
       "      <th>1647</th>\n",
       "      <td>1</td>\n",
       "      <td>20.00</td>\n",
       "      <td>20.00</td>\n",
       "      <td>Male</td>\n",
       "      <td>0</td>\n",
       "      <td>No</td>\n",
       "      <td>No</td>\n",
       "      <td>Yes</td>\n",
       "      <td>No</td>\n",
       "      <td>No</td>\n",
       "      <td>No internet service</td>\n",
       "      <td>No internet service</td>\n",
       "      <td>No internet service</td>\n",
       "      <td>No internet service</td>\n",
       "      <td>No internet service</td>\n",
       "      <td>No internet service</td>\n",
       "      <td>Month-to-month</td>\n",
       "      <td>No</td>\n",
       "      <td>Mailed check</td>\n",
       "      <td>1</td>\n",
       "    </tr>\n",
       "    <tr>\n",
       "      <th>3735</th>\n",
       "      <td>1</td>\n",
       "      <td>20.20</td>\n",
       "      <td>20.20</td>\n",
       "      <td>Male</td>\n",
       "      <td>0</td>\n",
       "      <td>No</td>\n",
       "      <td>No</td>\n",
       "      <td>Yes</td>\n",
       "      <td>No</td>\n",
       "      <td>No</td>\n",
       "      <td>No internet service</td>\n",
       "      <td>No internet service</td>\n",
       "      <td>No internet service</td>\n",
       "      <td>No internet service</td>\n",
       "      <td>No internet service</td>\n",
       "      <td>No internet service</td>\n",
       "      <td>Month-to-month</td>\n",
       "      <td>No</td>\n",
       "      <td>Mailed check</td>\n",
       "      <td>0</td>\n",
       "    </tr>\n",
       "    <tr>\n",
       "      <th>3769</th>\n",
       "      <td>1</td>\n",
       "      <td>20.20</td>\n",
       "      <td>20.20</td>\n",
       "      <td>Male</td>\n",
       "      <td>0</td>\n",
       "      <td>No</td>\n",
       "      <td>No</td>\n",
       "      <td>Yes</td>\n",
       "      <td>No</td>\n",
       "      <td>No</td>\n",
       "      <td>No internet service</td>\n",
       "      <td>No internet service</td>\n",
       "      <td>No internet service</td>\n",
       "      <td>No internet service</td>\n",
       "      <td>No internet service</td>\n",
       "      <td>No internet service</td>\n",
       "      <td>Month-to-month</td>\n",
       "      <td>No</td>\n",
       "      <td>Mailed check</td>\n",
       "      <td>1</td>\n",
       "    </tr>\n",
       "    <tr>\n",
       "      <th>881</th>\n",
       "      <td>1</td>\n",
       "      <td>20.40</td>\n",
       "      <td>20.40</td>\n",
       "      <td>Female</td>\n",
       "      <td>0</td>\n",
       "      <td>No</td>\n",
       "      <td>No</td>\n",
       "      <td>Yes</td>\n",
       "      <td>No</td>\n",
       "      <td>No</td>\n",
       "      <td>No internet service</td>\n",
       "      <td>No internet service</td>\n",
       "      <td>No internet service</td>\n",
       "      <td>No internet service</td>\n",
       "      <td>No internet service</td>\n",
       "      <td>No internet service</td>\n",
       "      <td>Month-to-month</td>\n",
       "      <td>No</td>\n",
       "      <td>Mailed check</td>\n",
       "      <td>0</td>\n",
       "    </tr>\n",
       "    <tr>\n",
       "      <th>1874</th>\n",
       "      <td>1</td>\n",
       "      <td>20.40</td>\n",
       "      <td>20.40</td>\n",
       "      <td>Female</td>\n",
       "      <td>0</td>\n",
       "      <td>No</td>\n",
       "      <td>No</td>\n",
       "      <td>Yes</td>\n",
       "      <td>No</td>\n",
       "      <td>No</td>\n",
       "      <td>No internet service</td>\n",
       "      <td>No internet service</td>\n",
       "      <td>No internet service</td>\n",
       "      <td>No internet service</td>\n",
       "      <td>No internet service</td>\n",
       "      <td>No internet service</td>\n",
       "      <td>Month-to-month</td>\n",
       "      <td>No</td>\n",
       "      <td>Mailed check</td>\n",
       "      <td>1</td>\n",
       "    </tr>\n",
       "    <tr>\n",
       "      <th>3239</th>\n",
       "      <td>1</td>\n",
       "      <td>20.50</td>\n",
       "      <td>20.50</td>\n",
       "      <td>Female</td>\n",
       "      <td>0</td>\n",
       "      <td>No</td>\n",
       "      <td>No</td>\n",
       "      <td>Yes</td>\n",
       "      <td>No</td>\n",
       "      <td>No</td>\n",
       "      <td>No internet service</td>\n",
       "      <td>No internet service</td>\n",
       "      <td>No internet service</td>\n",
       "      <td>No internet service</td>\n",
       "      <td>No internet service</td>\n",
       "      <td>No internet service</td>\n",
       "      <td>Month-to-month</td>\n",
       "      <td>No</td>\n",
       "      <td>Mailed check</td>\n",
       "      <td>0</td>\n",
       "    </tr>\n",
       "    <tr>\n",
       "      <th>1677</th>\n",
       "      <td>1</td>\n",
       "      <td>20.50</td>\n",
       "      <td>20.50</td>\n",
       "      <td>Female</td>\n",
       "      <td>0</td>\n",
       "      <td>No</td>\n",
       "      <td>No</td>\n",
       "      <td>Yes</td>\n",
       "      <td>No</td>\n",
       "      <td>No</td>\n",
       "      <td>No internet service</td>\n",
       "      <td>No internet service</td>\n",
       "      <td>No internet service</td>\n",
       "      <td>No internet service</td>\n",
       "      <td>No internet service</td>\n",
       "      <td>No internet service</td>\n",
       "      <td>Month-to-month</td>\n",
       "      <td>No</td>\n",
       "      <td>Mailed check</td>\n",
       "      <td>1</td>\n",
       "    </tr>\n",
       "    <tr>\n",
       "      <th>4735</th>\n",
       "      <td>1</td>\n",
       "      <td>20.90</td>\n",
       "      <td>20.90</td>\n",
       "      <td>Female</td>\n",
       "      <td>0</td>\n",
       "      <td>No</td>\n",
       "      <td>No</td>\n",
       "      <td>Yes</td>\n",
       "      <td>No</td>\n",
       "      <td>No</td>\n",
       "      <td>No internet service</td>\n",
       "      <td>No internet service</td>\n",
       "      <td>No internet service</td>\n",
       "      <td>No internet service</td>\n",
       "      <td>No internet service</td>\n",
       "      <td>No internet service</td>\n",
       "      <td>Month-to-month</td>\n",
       "      <td>No</td>\n",
       "      <td>Mailed check</td>\n",
       "      <td>0</td>\n",
       "    </tr>\n",
       "    <tr>\n",
       "      <th>2024</th>\n",
       "      <td>1</td>\n",
       "      <td>20.90</td>\n",
       "      <td>20.90</td>\n",
       "      <td>Female</td>\n",
       "      <td>0</td>\n",
       "      <td>No</td>\n",
       "      <td>No</td>\n",
       "      <td>Yes</td>\n",
       "      <td>No</td>\n",
       "      <td>No</td>\n",
       "      <td>No internet service</td>\n",
       "      <td>No internet service</td>\n",
       "      <td>No internet service</td>\n",
       "      <td>No internet service</td>\n",
       "      <td>No internet service</td>\n",
       "      <td>No internet service</td>\n",
       "      <td>Month-to-month</td>\n",
       "      <td>No</td>\n",
       "      <td>Mailed check</td>\n",
       "      <td>1</td>\n",
       "    </tr>\n",
       "    <tr>\n",
       "      <th>1040</th>\n",
       "      <td>1</td>\n",
       "      <td>45.40</td>\n",
       "      <td>45.40</td>\n",
       "      <td>Female</td>\n",
       "      <td>0</td>\n",
       "      <td>No</td>\n",
       "      <td>No</td>\n",
       "      <td>Yes</td>\n",
       "      <td>No</td>\n",
       "      <td>DSL</td>\n",
       "      <td>No</td>\n",
       "      <td>No</td>\n",
       "      <td>No</td>\n",
       "      <td>No</td>\n",
       "      <td>No</td>\n",
       "      <td>No</td>\n",
       "      <td>Month-to-month</td>\n",
       "      <td>Yes</td>\n",
       "      <td>Mailed check</td>\n",
       "      <td>0</td>\n",
       "    </tr>\n",
       "    <tr>\n",
       "      <th>5066</th>\n",
       "      <td>1</td>\n",
       "      <td>45.40</td>\n",
       "      <td>45.40</td>\n",
       "      <td>Female</td>\n",
       "      <td>0</td>\n",
       "      <td>No</td>\n",
       "      <td>No</td>\n",
       "      <td>Yes</td>\n",
       "      <td>No</td>\n",
       "      <td>DSL</td>\n",
       "      <td>No</td>\n",
       "      <td>No</td>\n",
       "      <td>No</td>\n",
       "      <td>No</td>\n",
       "      <td>No</td>\n",
       "      <td>No</td>\n",
       "      <td>Month-to-month</td>\n",
       "      <td>Yes</td>\n",
       "      <td>Mailed check</td>\n",
       "      <td>1</td>\n",
       "    </tr>\n",
       "  </tbody>\n",
       "</table>\n",
       "</div>"
      ],
      "text/plain": [
       "      ClientPeriod  MonthlySpending  TotalSpent     Sex  IsSeniorCitizen  \\\n",
       "838              1            19.65       19.65  Female                0   \n",
       "4811             1            19.65       19.65  Female                0   \n",
       "3463             1            19.75       19.75    Male                0   \n",
       "4294             1            19.75       19.75    Male                0   \n",
       "3831             1            20.00       20.00    Male                0   \n",
       "1647             1            20.00       20.00    Male                0   \n",
       "3735             1            20.20       20.20    Male                0   \n",
       "3769             1            20.20       20.20    Male                0   \n",
       "881              1            20.40       20.40  Female                0   \n",
       "1874             1            20.40       20.40  Female                0   \n",
       "3239             1            20.50       20.50  Female                0   \n",
       "1677             1            20.50       20.50  Female                0   \n",
       "4735             1            20.90       20.90  Female                0   \n",
       "2024             1            20.90       20.90  Female                0   \n",
       "1040             1            45.40       45.40  Female                0   \n",
       "5066             1            45.40       45.40  Female                0   \n",
       "\n",
       "     HasPartner HasChild HasPhoneService HasMultiplePhoneNumbers  \\\n",
       "838          No       No             Yes                      No   \n",
       "4811         No       No             Yes                      No   \n",
       "3463         No       No             Yes                      No   \n",
       "4294         No       No             Yes                      No   \n",
       "3831         No       No             Yes                      No   \n",
       "1647         No       No             Yes                      No   \n",
       "3735         No       No             Yes                      No   \n",
       "3769         No       No             Yes                      No   \n",
       "881          No       No             Yes                      No   \n",
       "1874         No       No             Yes                      No   \n",
       "3239         No       No             Yes                      No   \n",
       "1677         No       No             Yes                      No   \n",
       "4735         No       No             Yes                      No   \n",
       "2024         No       No             Yes                      No   \n",
       "1040         No       No             Yes                      No   \n",
       "5066         No       No             Yes                      No   \n",
       "\n",
       "     HasInternetService HasOnlineSecurityService      HasOnlineBackup  \\\n",
       "838                  No      No internet service  No internet service   \n",
       "4811                 No      No internet service  No internet service   \n",
       "3463                 No      No internet service  No internet service   \n",
       "4294                 No      No internet service  No internet service   \n",
       "3831                 No      No internet service  No internet service   \n",
       "1647                 No      No internet service  No internet service   \n",
       "3735                 No      No internet service  No internet service   \n",
       "3769                 No      No internet service  No internet service   \n",
       "881                  No      No internet service  No internet service   \n",
       "1874                 No      No internet service  No internet service   \n",
       "3239                 No      No internet service  No internet service   \n",
       "1677                 No      No internet service  No internet service   \n",
       "4735                 No      No internet service  No internet service   \n",
       "2024                 No      No internet service  No internet service   \n",
       "1040                DSL                       No                   No   \n",
       "5066                DSL                       No                   No   \n",
       "\n",
       "      HasDeviceProtection HasTechSupportAccess          HasOnlineTV  \\\n",
       "838   No internet service  No internet service  No internet service   \n",
       "4811  No internet service  No internet service  No internet service   \n",
       "3463  No internet service  No internet service  No internet service   \n",
       "4294  No internet service  No internet service  No internet service   \n",
       "3831  No internet service  No internet service  No internet service   \n",
       "1647  No internet service  No internet service  No internet service   \n",
       "3735  No internet service  No internet service  No internet service   \n",
       "3769  No internet service  No internet service  No internet service   \n",
       "881   No internet service  No internet service  No internet service   \n",
       "1874  No internet service  No internet service  No internet service   \n",
       "3239  No internet service  No internet service  No internet service   \n",
       "1677  No internet service  No internet service  No internet service   \n",
       "4735  No internet service  No internet service  No internet service   \n",
       "2024  No internet service  No internet service  No internet service   \n",
       "1040                   No                   No                   No   \n",
       "5066                   No                   No                   No   \n",
       "\n",
       "     HasMovieSubscription HasContractPhone IsBillingPaperless PaymentMethod  \\\n",
       "838   No internet service   Month-to-month                 No  Mailed check   \n",
       "4811  No internet service   Month-to-month                 No  Mailed check   \n",
       "3463  No internet service   Month-to-month                 No  Mailed check   \n",
       "4294  No internet service   Month-to-month                 No  Mailed check   \n",
       "3831  No internet service   Month-to-month                 No  Mailed check   \n",
       "1647  No internet service   Month-to-month                 No  Mailed check   \n",
       "3735  No internet service   Month-to-month                 No  Mailed check   \n",
       "3769  No internet service   Month-to-month                 No  Mailed check   \n",
       "881   No internet service   Month-to-month                 No  Mailed check   \n",
       "1874  No internet service   Month-to-month                 No  Mailed check   \n",
       "3239  No internet service   Month-to-month                 No  Mailed check   \n",
       "1677  No internet service   Month-to-month                 No  Mailed check   \n",
       "4735  No internet service   Month-to-month                 No  Mailed check   \n",
       "2024  No internet service   Month-to-month                 No  Mailed check   \n",
       "1040                   No   Month-to-month                Yes  Mailed check   \n",
       "5066                   No   Month-to-month                Yes  Mailed check   \n",
       "\n",
       "      Churn  \n",
       "838       0  \n",
       "4811      1  \n",
       "3463      0  \n",
       "4294      1  \n",
       "3831      0  \n",
       "1647      1  \n",
       "3735      0  \n",
       "3769      1  \n",
       "881       0  \n",
       "1874      1  \n",
       "3239      0  \n",
       "1677      1  \n",
       "4735      0  \n",
       "2024      1  \n",
       "1040      0  \n",
       "5066      1  "
      ]
     },
     "execution_count": 14,
     "metadata": {},
     "output_type": "execute_result"
    }
   ],
   "source": [
    "data.drop_duplicates(inplace=True)\n",
    "\n",
    "#теперь посмотрим, не осталось ли дубликатов, если отбросить целевой признак.\n",
    "data[data.drop(['Churn'], axis=1).duplicated(keep=False)].sort_values(by=[*data.columns])"
   ]
  },
  {
   "cell_type": "markdown",
   "metadata": {},
   "source": [
    "Осталось еще несколько дубликатов, различающихся по целевому признаку. Вся путаница в первом месяце, причем запись с Churn=1 позже, т.е. можно предположить, что информация о покупке еще не убрана из базы. Т.е. лучше оставить записи с Churn=1."
   ]
  },
  {
   "cell_type": "code",
   "execution_count": 15,
   "metadata": {
    "execution": {
     "iopub.execute_input": "2023-03-28T07:06:48.723436Z",
     "iopub.status.busy": "2023-03-28T07:06:48.723088Z",
     "iopub.status.idle": "2023-03-28T07:06:48.740827Z",
     "shell.execute_reply": "2023-03-28T07:06:48.739950Z",
     "shell.execute_reply.started": "2023-03-28T07:06:48.723399Z"
    }
   },
   "outputs": [],
   "source": [
    "data.drop_duplicates(subset=list(data.columns[:-1]), keep='last', inplace=True)"
   ]
  },
  {
   "cell_type": "markdown",
   "metadata": {},
   "source": [
    "Заметим, что признак IsSeniorCitizen хранится как число, хотя по сути он категориальный. \n",
    "Но это не мешает."
   ]
  },
  {
   "cell_type": "markdown",
   "metadata": {},
   "source": [
    "Посмотрим базовые статистики по столбцам"
   ]
  },
  {
   "cell_type": "code",
   "execution_count": 16,
   "metadata": {
    "execution": {
     "iopub.execute_input": "2023-03-28T07:06:48.742980Z",
     "iopub.status.busy": "2023-03-28T07:06:48.742623Z",
     "iopub.status.idle": "2023-03-28T07:06:48.768529Z",
     "shell.execute_reply": "2023-03-28T07:06:48.767498Z",
     "shell.execute_reply.started": "2023-03-28T07:06:48.742947Z"
    },
    "id": "tHC6gWabEEZA"
   },
   "outputs": [
    {
     "data": {
      "text/html": [
       "<div>\n",
       "<style scoped>\n",
       "    .dataframe tbody tr th:only-of-type {\n",
       "        vertical-align: middle;\n",
       "    }\n",
       "\n",
       "    .dataframe tbody tr th {\n",
       "        vertical-align: top;\n",
       "    }\n",
       "\n",
       "    .dataframe thead th {\n",
       "        text-align: right;\n",
       "    }\n",
       "</style>\n",
       "<table border=\"1\" class=\"dataframe\">\n",
       "  <thead>\n",
       "    <tr style=\"text-align: right;\">\n",
       "      <th></th>\n",
       "      <th>ClientPeriod</th>\n",
       "      <th>MonthlySpending</th>\n",
       "      <th>TotalSpent</th>\n",
       "      <th>IsSeniorCitizen</th>\n",
       "      <th>Churn</th>\n",
       "    </tr>\n",
       "  </thead>\n",
       "  <tbody>\n",
       "    <tr>\n",
       "      <th>count</th>\n",
       "      <td>5260.000000</td>\n",
       "      <td>5260.000000</td>\n",
       "      <td>5260.000000</td>\n",
       "      <td>5260.000000</td>\n",
       "      <td>5260.000000</td>\n",
       "    </tr>\n",
       "    <tr>\n",
       "      <th>mean</th>\n",
       "      <td>32.528327</td>\n",
       "      <td>65.040875</td>\n",
       "      <td>2296.937662</td>\n",
       "      <td>0.159886</td>\n",
       "      <td>0.260646</td>\n",
       "    </tr>\n",
       "    <tr>\n",
       "      <th>std</th>\n",
       "      <td>24.517317</td>\n",
       "      <td>30.153470</td>\n",
       "      <td>2269.067506</td>\n",
       "      <td>0.366535</td>\n",
       "      <td>0.439029</td>\n",
       "    </tr>\n",
       "    <tr>\n",
       "      <th>min</th>\n",
       "      <td>0.000000</td>\n",
       "      <td>18.250000</td>\n",
       "      <td>9.850000</td>\n",
       "      <td>0.000000</td>\n",
       "      <td>0.000000</td>\n",
       "    </tr>\n",
       "    <tr>\n",
       "      <th>25%</th>\n",
       "      <td>9.000000</td>\n",
       "      <td>35.737500</td>\n",
       "      <td>403.300000</td>\n",
       "      <td>0.000000</td>\n",
       "      <td>0.000000</td>\n",
       "    </tr>\n",
       "    <tr>\n",
       "      <th>50%</th>\n",
       "      <td>29.000000</td>\n",
       "      <td>70.500000</td>\n",
       "      <td>1414.900000</td>\n",
       "      <td>0.000000</td>\n",
       "      <td>0.000000</td>\n",
       "    </tr>\n",
       "    <tr>\n",
       "      <th>75%</th>\n",
       "      <td>55.000000</td>\n",
       "      <td>90.050000</td>\n",
       "      <td>3813.712500</td>\n",
       "      <td>0.000000</td>\n",
       "      <td>1.000000</td>\n",
       "    </tr>\n",
       "    <tr>\n",
       "      <th>max</th>\n",
       "      <td>72.000000</td>\n",
       "      <td>118.750000</td>\n",
       "      <td>8684.800000</td>\n",
       "      <td>1.000000</td>\n",
       "      <td>1.000000</td>\n",
       "    </tr>\n",
       "  </tbody>\n",
       "</table>\n",
       "</div>"
      ],
      "text/plain": [
       "       ClientPeriod  MonthlySpending   TotalSpent  IsSeniorCitizen  \\\n",
       "count   5260.000000      5260.000000  5260.000000      5260.000000   \n",
       "mean      32.528327        65.040875  2296.937662         0.159886   \n",
       "std       24.517317        30.153470  2269.067506         0.366535   \n",
       "min        0.000000        18.250000     9.850000         0.000000   \n",
       "25%        9.000000        35.737500   403.300000         0.000000   \n",
       "50%       29.000000        70.500000  1414.900000         0.000000   \n",
       "75%       55.000000        90.050000  3813.712500         0.000000   \n",
       "max       72.000000       118.750000  8684.800000         1.000000   \n",
       "\n",
       "             Churn  \n",
       "count  5260.000000  \n",
       "mean      0.260646  \n",
       "std       0.439029  \n",
       "min       0.000000  \n",
       "25%       0.000000  \n",
       "50%       0.000000  \n",
       "75%       1.000000  \n",
       "max       1.000000  "
      ]
     },
     "execution_count": 16,
     "metadata": {},
     "output_type": "execute_result"
    }
   ],
   "source": [
    "data.describe()"
   ]
  },
  {
   "cell_type": "code",
   "execution_count": 17,
   "metadata": {
    "execution": {
     "iopub.execute_input": "2023-03-28T07:06:48.769931Z",
     "iopub.status.busy": "2023-03-28T07:06:48.769663Z",
     "iopub.status.idle": "2023-03-28T07:06:48.813366Z",
     "shell.execute_reply": "2023-03-28T07:06:48.812478Z",
     "shell.execute_reply.started": "2023-03-28T07:06:48.769906Z"
    },
    "id": "tHC6gWabEEZA"
   },
   "outputs": [
    {
     "data": {
      "text/html": [
       "<div>\n",
       "<style scoped>\n",
       "    .dataframe tbody tr th:only-of-type {\n",
       "        vertical-align: middle;\n",
       "    }\n",
       "\n",
       "    .dataframe tbody tr th {\n",
       "        vertical-align: top;\n",
       "    }\n",
       "\n",
       "    .dataframe thead th {\n",
       "        text-align: right;\n",
       "    }\n",
       "</style>\n",
       "<table border=\"1\" class=\"dataframe\">\n",
       "  <thead>\n",
       "    <tr style=\"text-align: right;\">\n",
       "      <th></th>\n",
       "      <th>Sex</th>\n",
       "      <th>HasPartner</th>\n",
       "      <th>HasChild</th>\n",
       "      <th>HasPhoneService</th>\n",
       "      <th>HasMultiplePhoneNumbers</th>\n",
       "      <th>HasInternetService</th>\n",
       "      <th>HasOnlineSecurityService</th>\n",
       "      <th>HasOnlineBackup</th>\n",
       "      <th>HasDeviceProtection</th>\n",
       "      <th>HasTechSupportAccess</th>\n",
       "      <th>HasOnlineTV</th>\n",
       "      <th>HasMovieSubscription</th>\n",
       "      <th>HasContractPhone</th>\n",
       "      <th>IsBillingPaperless</th>\n",
       "      <th>PaymentMethod</th>\n",
       "    </tr>\n",
       "  </thead>\n",
       "  <tbody>\n",
       "    <tr>\n",
       "      <th>count</th>\n",
       "      <td>5260</td>\n",
       "      <td>5260</td>\n",
       "      <td>5260</td>\n",
       "      <td>5260</td>\n",
       "      <td>5260</td>\n",
       "      <td>5260</td>\n",
       "      <td>5260</td>\n",
       "      <td>5260</td>\n",
       "      <td>5260</td>\n",
       "      <td>5260</td>\n",
       "      <td>5260</td>\n",
       "      <td>5260</td>\n",
       "      <td>5260</td>\n",
       "      <td>5260</td>\n",
       "      <td>5260</td>\n",
       "    </tr>\n",
       "    <tr>\n",
       "      <th>unique</th>\n",
       "      <td>2</td>\n",
       "      <td>2</td>\n",
       "      <td>2</td>\n",
       "      <td>2</td>\n",
       "      <td>3</td>\n",
       "      <td>3</td>\n",
       "      <td>3</td>\n",
       "      <td>3</td>\n",
       "      <td>3</td>\n",
       "      <td>3</td>\n",
       "      <td>3</td>\n",
       "      <td>3</td>\n",
       "      <td>3</td>\n",
       "      <td>2</td>\n",
       "      <td>4</td>\n",
       "    </tr>\n",
       "    <tr>\n",
       "      <th>top</th>\n",
       "      <td>Male</td>\n",
       "      <td>No</td>\n",
       "      <td>No</td>\n",
       "      <td>Yes</td>\n",
       "      <td>No</td>\n",
       "      <td>Fiber optic</td>\n",
       "      <td>No</td>\n",
       "      <td>No</td>\n",
       "      <td>No</td>\n",
       "      <td>No</td>\n",
       "      <td>No</td>\n",
       "      <td>No</td>\n",
       "      <td>Month-to-month</td>\n",
       "      <td>Yes</td>\n",
       "      <td>Electronic check</td>\n",
       "    </tr>\n",
       "    <tr>\n",
       "      <th>freq</th>\n",
       "      <td>2644</td>\n",
       "      <td>2683</td>\n",
       "      <td>3654</td>\n",
       "      <td>4739</td>\n",
       "      <td>2489</td>\n",
       "      <td>2335</td>\n",
       "      <td>2603</td>\n",
       "      <td>2323</td>\n",
       "      <td>2308</td>\n",
       "      <td>2595</td>\n",
       "      <td>2090</td>\n",
       "      <td>2072</td>\n",
       "      <td>2898</td>\n",
       "      <td>3139</td>\n",
       "      <td>1780</td>\n",
       "    </tr>\n",
       "  </tbody>\n",
       "</table>\n",
       "</div>"
      ],
      "text/plain": [
       "         Sex HasPartner HasChild HasPhoneService HasMultiplePhoneNumbers  \\\n",
       "count   5260       5260     5260            5260                    5260   \n",
       "unique     2          2        2               2                       3   \n",
       "top     Male         No       No             Yes                      No   \n",
       "freq    2644       2683     3654            4739                    2489   \n",
       "\n",
       "       HasInternetService HasOnlineSecurityService HasOnlineBackup  \\\n",
       "count                5260                     5260            5260   \n",
       "unique                  3                        3               3   \n",
       "top           Fiber optic                       No              No   \n",
       "freq                 2335                     2603            2323   \n",
       "\n",
       "       HasDeviceProtection HasTechSupportAccess HasOnlineTV  \\\n",
       "count                 5260                 5260        5260   \n",
       "unique                   3                    3           3   \n",
       "top                     No                   No          No   \n",
       "freq                  2308                 2595        2090   \n",
       "\n",
       "       HasMovieSubscription HasContractPhone IsBillingPaperless  \\\n",
       "count                  5260             5260               5260   \n",
       "unique                    3                3                  2   \n",
       "top                      No   Month-to-month                Yes   \n",
       "freq                   2072             2898               3139   \n",
       "\n",
       "           PaymentMethod  \n",
       "count               5260  \n",
       "unique                 4  \n",
       "top     Electronic check  \n",
       "freq                1780  "
      ]
     },
     "execution_count": 17,
     "metadata": {},
     "output_type": "execute_result"
    }
   ],
   "source": [
    "data.describe(include=['O'])"
   ]
  },
  {
   "cell_type": "markdown",
   "metadata": {},
   "source": [
    "Больше никаких аномалий в данных на этом этапе не заметно."
   ]
  },
  {
   "cell_type": "markdown",
   "metadata": {
    "id": "dK370bPCEEZD"
   },
   "source": [
    "## Анализ данных "
   ]
  },
  {
   "cell_type": "code",
   "execution_count": 18,
   "metadata": {
    "execution": {
     "iopub.execute_input": "2023-03-28T07:06:48.816475Z",
     "iopub.status.busy": "2023-03-28T07:06:48.815828Z",
     "iopub.status.idle": "2023-03-28T07:06:49.712944Z",
     "shell.execute_reply": "2023-03-28T07:06:49.711756Z",
     "shell.execute_reply.started": "2023-03-28T07:06:48.816438Z"
    },
    "id": "NZkbgFJZEEZE"
   },
   "outputs": [
    {
     "data": {
      "image/png": "[encoded data removed]",
      "text/plain": [
       "<Figure size 864x576 with 4 Axes>"
      ]
     },
     "metadata": {},
     "output_type": "display_data"
    }
   ],
   "source": [
    "plt.figure(figsize=(12, 8))\n",
    "\n",
    "for i, col in enumerate(num_cols):\n",
    "    plt.subplot(2, 2, i+1)\n",
    "    sns.histplot( x=col, data=data)\n",
    "\n",
    "plt.subplot(2, 2, 4)\n",
    "sns.histplot( x='Churn', data=data, color='violet', bins=3);"
   ]
  },
  {
   "cell_type": "markdown",
   "metadata": {},
   "source": [
    "**Посмотрим на целевую переменную:** \n",
    "(сиренево-фиолетовый график). Таки да, классы слегка разбалансированы, ушедших абонентов примерно в три раза меньше, чем остающихся. Но это не тот дисбаланс, к которому надо применять специальные методы обработки."
   ]
  },
  {
   "cell_type": "markdown",
   "metadata": {},
   "source": [
    "Видно, что по параметру TotalSpent очень большой разброс. Есть две идеи:\n",
    "1. Добавить колонку с логарифмом этого параметра (и прибавить 1 для отрыва от нуля), \n",
    "2. Разделить его на ClientPeriod.  \n",
    "\n",
    "Посмотрим оба варианта:"
   ]
  },
  {
   "cell_type": "code",
   "execution_count": 19,
   "metadata": {
    "execution": {
     "iopub.execute_input": "2023-03-28T07:06:49.714735Z",
     "iopub.status.busy": "2023-03-28T07:06:49.714352Z",
     "iopub.status.idle": "2023-03-28T07:06:50.704843Z",
     "shell.execute_reply": "2023-03-28T07:06:50.703817Z",
     "shell.execute_reply.started": "2023-03-28T07:06:49.714694Z"
    }
   },
   "outputs": [
    {
     "data": {
      "image/png": "[encoded data removed]",
      "text/plain": [
       "<Figure size 1080x360 with 3 Axes>"
      ]
     },
     "metadata": {},
     "output_type": "display_data"
    }
   ],
   "source": [
    "plt.figure(figsize=(15, 5))\n",
    "plt.subplot(1, 3, 1)         \n",
    "plt.hist(data.TotalSpent, bins=20)\n",
    "plt.title('Исходные данные')           \n",
    "plt.subplot(1, 3, 2)         \n",
    "plt.hist(np.log1p(data.TotalSpent), bins=20)\n",
    "plt.title('Логарифм')           \n",
    "plt.subplot(1, 3, 3)           \n",
    "plt.hist(data.TotalSpent/(data.ClientPeriod + 1), bins=20);\n",
    "plt.title('Среднемесячный расход');"
   ]
  },
  {
   "cell_type": "markdown",
   "metadata": {},
   "source": [
    "Оба варианта выглядят привлекательно. Поставим эксперимент на простейшей логистической регрессии:"
   ]
  },
  {
   "cell_type": "code",
   "execution_count": 20,
   "metadata": {
    "execution": {
     "iopub.execute_input": "2023-03-28T07:06:50.707634Z",
     "iopub.status.busy": "2023-03-28T07:06:50.706549Z",
     "iopub.status.idle": "2023-03-28T07:06:50.717790Z",
     "shell.execute_reply": "2023-03-28T07:06:50.716856Z",
     "shell.execute_reply.started": "2023-03-28T07:06:50.707592Z"
    },
    "id": "P2Yv3uYtEEZO"
   },
   "outputs": [],
   "source": [
    "X_train, X_test, y_train, y_test = train_test_split(data.drop(['Churn'], axis='columns'), data['Churn'], \n",
    "                                                    test_size=0.2, random_state=1968)"
   ]
  },
  {
   "cell_type": "code",
   "execution_count": 21,
   "metadata": {
    "execution": {
     "iopub.execute_input": "2023-03-28T07:06:50.725748Z",
     "iopub.status.busy": "2023-03-28T07:06:50.725470Z",
     "iopub.status.idle": "2023-03-28T07:06:50.875077Z",
     "shell.execute_reply": "2023-03-28T07:06:50.873865Z",
     "shell.execute_reply.started": "2023-03-28T07:06:50.725722Z"
    },
    "id": "P2Yv3uYtEEZO"
   },
   "outputs": [
    {
     "name": "stdout",
     "output_type": "stream",
     "text": [
      "ROC_AUC test, train: 0.8426309932130049 0.871630197972909\n"
     ]
    }
   ],
   "source": [
    "def lr_try(X_train, X_test, y_train, y_test, num_cols):\n",
    "    scaler = StandardScaler()\n",
    "    X_train_s = scaler.fit_transform(X_train[num_cols], y_train)\n",
    "    X_test_s = scaler.transform(X_test[num_cols])\n",
    "\n",
    "    ohe = OneHotEncoder(sparse=False, handle_unknown='ignore', drop='if_binary')\n",
    "    X_train_e = ohe.fit_transform(X_train[cat_cols], y_train)\n",
    "    X_test_e = ohe.transform(X_test[cat_cols])\n",
    "\n",
    "    # полная матрица\n",
    "    X_train_trans = np.concatenate([X_train_s, X_train_e], axis=1)\n",
    "    X_test_trans = np.concatenate([X_test_s, X_test_e], axis=1)\n",
    "\n",
    "    lr = LogisticRegression()\n",
    "    lr.fit( X_train_trans, y_train)\n",
    "    y_train_predict = lr.predict_proba(X_train_trans)\n",
    "    y_test_predict = lr.predict_proba(X_test_trans)\n",
    "\n",
    "    return roc_auc_score(y_train, y_train_predict[:,1]), roc_auc_score(y_test, y_test_predict[:,1]) \n",
    "\n",
    "#Исходная таблица, baseline\n",
    "\n",
    "#X_train_s = X_train.copy()\n",
    "\n",
    "print(\"ROC_AUC test, train:\", * lr_try(X_train, X_test, y_train, y_test, num_cols))"
   ]
  },
  {
   "cell_type": "code",
   "execution_count": 22,
   "metadata": {
    "execution": {
     "iopub.execute_input": "2023-03-28T07:06:50.877398Z",
     "iopub.status.busy": "2023-03-28T07:06:50.876688Z",
     "iopub.status.idle": "2023-03-28T07:06:51.098312Z",
     "shell.execute_reply": "2023-03-28T07:06:51.097141Z",
     "shell.execute_reply.started": "2023-03-28T07:06:50.877359Z"
    }
   },
   "outputs": [
    {
     "name": "stdout",
     "output_type": "stream",
     "text": [
      "ROC_AUC test, train: 0.8455306014048732 0.8799374822392726\n"
     ]
    }
   ],
   "source": [
    "#Логарифм\n",
    "\n",
    "X_train_s, X_test_s = X_train.copy(), X_test.copy()\n",
    "X_train_s['TotalSpentLog'] = np.log(X_train.TotalSpent)\n",
    "X_test_s['TotalSpentLog'] = np.log(X_test.TotalSpent)\n",
    "\n",
    "print(\"ROC_AUC test, train:\", * lr_try(X_train_s, X_test_s, y_train, y_test, num_cols+['TotalSpentLog']))"
   ]
  },
  {
   "cell_type": "code",
   "execution_count": 23,
   "metadata": {
    "execution": {
     "iopub.execute_input": "2023-03-28T07:06:51.100756Z",
     "iopub.status.busy": "2023-03-28T07:06:51.100015Z",
     "iopub.status.idle": "2023-03-28T07:06:51.295790Z",
     "shell.execute_reply": "2023-03-28T07:06:51.294488Z",
     "shell.execute_reply.started": "2023-03-28T07:06:51.100713Z"
    }
   },
   "outputs": [
    {
     "name": "stdout",
     "output_type": "stream",
     "text": [
      "ROC_AUC test, train: 0.8428923350542724 0.8753812636165578\n"
     ]
    }
   ],
   "source": [
    "#Среднемесячный расход\n",
    "\n",
    "X_train_s, X_test_s = X_train.copy(), X_test.copy()\n",
    "X_train_s['TotalSpent'] = X_train.TotalSpent / (X_train.ClientPeriod+1)\n",
    "X_test_s['TotalSpent'] = X_test.TotalSpent / (X_test.ClientPeriod+1)\n",
    "\n",
    "print(\"ROC_AUC test, train:\", * lr_try(X_train_s, X_test_s, y_train, y_test, num_cols))"
   ]
  },
  {
   "cell_type": "markdown",
   "metadata": {},
   "source": [
    "**Наилучший вариант - с логарифмом. Но добавим оба! И еще прологарифмируем MonthlySpending**"
   ]
  },
  {
   "cell_type": "code",
   "execution_count": 24,
   "metadata": {
    "execution": {
     "iopub.execute_input": "2023-03-28T07:06:51.298407Z",
     "iopub.status.busy": "2023-03-28T07:06:51.297674Z",
     "iopub.status.idle": "2023-03-28T07:06:51.316307Z",
     "shell.execute_reply": "2023-03-28T07:06:51.315111Z",
     "shell.execute_reply.started": "2023-03-28T07:06:51.298367Z"
    }
   },
   "outputs": [
    {
     "data": {
      "text/plain": [
       "['TotalSpentLog',\n",
       " 'TotalSpent',\n",
       " 'TotalSpentMean',\n",
       " 'ClientPeriod',\n",
       " 'MonthlySpending',\n",
       " 'MonSpentLog']"
      ]
     },
     "execution_count": 24,
     "metadata": {},
     "output_type": "execute_result"
    }
   ],
   "source": [
    "data['TotalSpentLog'] = np.log(data['TotalSpent']) #добавили параметр TotalSpentLog на его логарифм.\n",
    "data['MonSpentLog'] = np.log1p(data['MonthlySpending'])\n",
    "data['TotalSpentMean'] = data.TotalSpent / (data.ClientPeriod+1)\n",
    "num_cols = list(set(num_cols+['TotalSpentLog', 'MonSpentLog', 'TotalSpentMean']))\n",
    "num_cols"
   ]
  },
  {
   "cell_type": "markdown",
   "metadata": {},
   "source": [
    "Ну, и посмотрим корреляцию между признаками."
   ]
  },
  {
   "cell_type": "code",
   "execution_count": 25,
   "metadata": {
    "execution": {
     "iopub.execute_input": "2023-03-28T07:06:51.318782Z",
     "iopub.status.busy": "2023-03-28T07:06:51.318079Z",
     "iopub.status.idle": "2023-03-28T07:06:51.345514Z",
     "shell.execute_reply": "2023-03-28T07:06:51.344371Z",
     "shell.execute_reply.started": "2023-03-28T07:06:51.318744Z"
    },
    "scrolled": true
   },
   "outputs": [
    {
     "data": {
      "text/html": [
       "<div>\n",
       "<style scoped>\n",
       "    .dataframe tbody tr th:only-of-type {\n",
       "        vertical-align: middle;\n",
       "    }\n",
       "\n",
       "    .dataframe tbody tr th {\n",
       "        vertical-align: top;\n",
       "    }\n",
       "\n",
       "    .dataframe thead th {\n",
       "        text-align: right;\n",
       "    }\n",
       "</style>\n",
       "<table border=\"1\" class=\"dataframe\">\n",
       "  <thead>\n",
       "    <tr style=\"text-align: right;\">\n",
       "      <th></th>\n",
       "      <th>ClientPeriod</th>\n",
       "      <th>MonthlySpending</th>\n",
       "      <th>TotalSpent</th>\n",
       "      <th>IsSeniorCitizen</th>\n",
       "      <th>Churn</th>\n",
       "      <th>TotalSpentLog</th>\n",
       "      <th>MonSpentLog</th>\n",
       "      <th>TotalSpentMean</th>\n",
       "    </tr>\n",
       "  </thead>\n",
       "  <tbody>\n",
       "    <tr>\n",
       "      <th>ClientPeriod</th>\n",
       "      <td>1.000000</td>\n",
       "      <td>0.246033</td>\n",
       "      <td>0.825869</td>\n",
       "      <td>0.009938</td>\n",
       "      <td>-0.349151</td>\n",
       "      <td>0.832753</td>\n",
       "      <td>0.196349</td>\n",
       "      <td>0.409658</td>\n",
       "    </tr>\n",
       "    <tr>\n",
       "      <th>MonthlySpending</th>\n",
       "      <td>0.246033</td>\n",
       "      <td>1.000000</td>\n",
       "      <td>0.651366</td>\n",
       "      <td>0.214500</td>\n",
       "      <td>0.187049</td>\n",
       "      <td>0.574236</td>\n",
       "      <td>0.977437</td>\n",
       "      <td>0.958281</td>\n",
       "    </tr>\n",
       "    <tr>\n",
       "      <th>TotalSpent</th>\n",
       "      <td>0.825869</td>\n",
       "      <td>0.651366</td>\n",
       "      <td>1.000000</td>\n",
       "      <td>0.093610</td>\n",
       "      <td>-0.198124</td>\n",
       "      <td>0.832266</td>\n",
       "      <td>0.587052</td>\n",
       "      <td>0.763642</td>\n",
       "    </tr>\n",
       "    <tr>\n",
       "      <th>IsSeniorCitizen</th>\n",
       "      <td>0.009938</td>\n",
       "      <td>0.214500</td>\n",
       "      <td>0.093610</td>\n",
       "      <td>1.000000</td>\n",
       "      <td>0.158100</td>\n",
       "      <td>0.098127</td>\n",
       "      <td>0.213164</td>\n",
       "      <td>0.195189</td>\n",
       "    </tr>\n",
       "    <tr>\n",
       "      <th>Churn</th>\n",
       "      <td>-0.349151</td>\n",
       "      <td>0.187049</td>\n",
       "      <td>-0.198124</td>\n",
       "      <td>0.158100</td>\n",
       "      <td>1.000000</td>\n",
       "      <td>-0.234945</td>\n",
       "      <td>0.206477</td>\n",
       "      <td>0.070554</td>\n",
       "    </tr>\n",
       "    <tr>\n",
       "      <th>TotalSpentLog</th>\n",
       "      <td>0.832753</td>\n",
       "      <td>0.574236</td>\n",
       "      <td>0.832266</td>\n",
       "      <td>0.098127</td>\n",
       "      <td>-0.234945</td>\n",
       "      <td>1.000000</td>\n",
       "      <td>0.544738</td>\n",
       "      <td>0.744649</td>\n",
       "    </tr>\n",
       "    <tr>\n",
       "      <th>MonSpentLog</th>\n",
       "      <td>0.196349</td>\n",
       "      <td>0.977437</td>\n",
       "      <td>0.587052</td>\n",
       "      <td>0.213164</td>\n",
       "      <td>0.206477</td>\n",
       "      <td>0.544738</td>\n",
       "      <td>1.000000</td>\n",
       "      <td>0.922333</td>\n",
       "    </tr>\n",
       "    <tr>\n",
       "      <th>TotalSpentMean</th>\n",
       "      <td>0.409658</td>\n",
       "      <td>0.958281</td>\n",
       "      <td>0.763642</td>\n",
       "      <td>0.195189</td>\n",
       "      <td>0.070554</td>\n",
       "      <td>0.744649</td>\n",
       "      <td>0.922333</td>\n",
       "      <td>1.000000</td>\n",
       "    </tr>\n",
       "  </tbody>\n",
       "</table>\n",
       "</div>"
      ],
      "text/plain": [
       "                 ClientPeriod  MonthlySpending  TotalSpent  IsSeniorCitizen  \\\n",
       "ClientPeriod         1.000000         0.246033    0.825869         0.009938   \n",
       "MonthlySpending      0.246033         1.000000    0.651366         0.214500   \n",
       "TotalSpent           0.825869         0.651366    1.000000         0.093610   \n",
       "IsSeniorCitizen      0.009938         0.214500    0.093610         1.000000   \n",
       "Churn               -0.349151         0.187049   -0.198124         0.158100   \n",
       "TotalSpentLog        0.832753         0.574236    0.832266         0.098127   \n",
       "MonSpentLog          0.196349         0.977437    0.587052         0.213164   \n",
       "TotalSpentMean       0.409658         0.958281    0.763642         0.195189   \n",
       "\n",
       "                    Churn  TotalSpentLog  MonSpentLog  TotalSpentMean  \n",
       "ClientPeriod    -0.349151       0.832753     0.196349        0.409658  \n",
       "MonthlySpending  0.187049       0.574236     0.977437        0.958281  \n",
       "TotalSpent      -0.198124       0.832266     0.587052        0.763642  \n",
       "IsSeniorCitizen  0.158100       0.098127     0.213164        0.195189  \n",
       "Churn            1.000000      -0.234945     0.206477        0.070554  \n",
       "TotalSpentLog   -0.234945       1.000000     0.544738        0.744649  \n",
       "MonSpentLog      0.206477       0.544738     1.000000        0.922333  \n",
       "TotalSpentMean   0.070554       0.744649     0.922333        1.000000  "
      ]
     },
     "execution_count": 25,
     "metadata": {},
     "output_type": "execute_result"
    }
   ],
   "source": [
    "data.corr()"
   ]
  },
  {
   "cell_type": "code",
   "execution_count": 26,
   "metadata": {
    "execution": {
     "iopub.execute_input": "2023-03-28T07:06:51.348081Z",
     "iopub.status.busy": "2023-03-28T07:06:51.347363Z",
     "iopub.status.idle": "2023-03-28T07:06:52.792646Z",
     "shell.execute_reply": "2023-03-28T07:06:52.791634Z",
     "shell.execute_reply.started": "2023-03-28T07:06:51.348043Z"
    }
   },
   "outputs": [
    {
     "data": {
      "image/png": "[encoded data removed]",
      "text/plain": [
       "<Figure size 1296x864 with 16 Axes>"
      ]
     },
     "metadata": {},
     "output_type": "display_data"
    }
   ],
   "source": [
    "sns.set()\n",
    "\n",
    "plt.figure(figsize=(18, 12))\n",
    "\n",
    "for i, col in enumerate(cat_cols):\n",
    "    plotdata = data[col].value_counts()\n",
    "    plt.subplot(4, 4, i+1)\n",
    "    plt.bar(plotdata.index, plotdata.values, width=0.5)\n",
    "    plt.title(col)\n",
    "    \n",
    "plt.subplots_adjust(wspace=0.5, hspace=0.3)\n",
    "plt.show();    "
   ]
  },
  {
   "cell_type": "markdown",
   "metadata": {
    "id": "fwfksF1gEEZI"
   },
   "source": [
    "**На этом этапе ошибок и выбросов также не видно.**"
   ]
  },
  {
   "cell_type": "markdown",
   "metadata": {
    "id": "fwfksF1gEEZI"
   },
   "source": [
    "Посмотрим еще зависимость целевого признака от категориальных признаков:"
   ]
  },
  {
   "cell_type": "code",
   "execution_count": 27,
   "metadata": {
    "execution": {
     "iopub.execute_input": "2023-03-28T07:06:52.794899Z",
     "iopub.status.busy": "2023-03-28T07:06:52.794238Z",
     "iopub.status.idle": "2023-03-28T07:06:52.808649Z",
     "shell.execute_reply": "2023-03-28T07:06:52.807496Z",
     "shell.execute_reply.started": "2023-03-28T07:06:52.794854Z"
    }
   },
   "outputs": [
    {
     "data": {
      "text/plain": [
       "No     0.307882\n",
       "Yes    0.153176\n",
       "Name: HasChild, dtype: float64"
      ]
     },
     "execution_count": 27,
     "metadata": {},
     "output_type": "execute_result"
    }
   ],
   "source": [
    "col = cat_cols[3]\n",
    "pdata = data[data['Churn']==1][col].value_counts() / data[col].value_counts() #.sort_values(ascending=False)\n",
    "pdata = pdata.sort_values(ascending=False)\n",
    "pdata"
   ]
  },
  {
   "cell_type": "code",
   "execution_count": 28,
   "metadata": {
    "execution": {
     "iopub.execute_input": "2023-03-28T07:06:52.810682Z",
     "iopub.status.busy": "2023-03-28T07:06:52.810175Z",
     "iopub.status.idle": "2023-03-28T07:06:52.820897Z",
     "shell.execute_reply": "2023-03-28T07:06:52.819859Z",
     "shell.execute_reply.started": "2023-03-28T07:06:52.810642Z"
    }
   },
   "outputs": [
    {
     "data": {
      "text/plain": [
       "No     0.307882\n",
       "Yes    0.153176\n",
       "Name: HasChild, dtype: float64"
      ]
     },
     "execution_count": 28,
     "metadata": {},
     "output_type": "execute_result"
    }
   ],
   "source": [
    "pdata.sort_values(ascending=False)"
   ]
  },
  {
   "cell_type": "code",
   "execution_count": 29,
   "metadata": {
    "execution": {
     "iopub.execute_input": "2023-03-28T07:06:52.823318Z",
     "iopub.status.busy": "2023-03-28T07:06:52.822582Z",
     "iopub.status.idle": "2023-03-28T07:06:54.658620Z",
     "shell.execute_reply": "2023-03-28T07:06:54.657670Z",
     "shell.execute_reply.started": "2023-03-28T07:06:52.823279Z"
    }
   },
   "outputs": [
    {
     "data": {
      "image/png": "[encoded data removed]",
      "text/plain": [
       "<Figure size 1080x720 with 16 Axes>"
      ]
     },
     "metadata": {},
     "output_type": "display_data"
    }
   ],
   "source": [
    "plt.figure(figsize=(15, 10))\n",
    "    \n",
    "plt.subplots_adjust(wspace=0.5, hspace=0.8)\n",
    "for i, col in enumerate(cat_cols):\n",
    "    pdata=data[data['Churn']==1][col].value_counts() / data[col].value_counts()\n",
    "    pdata = pdata.sort_values()# (ascending=False)\n",
    "    plt.subplot(4, 4, i+1)\n",
    "    plt.barh(pdata.index, width=pdata.values)\n",
    "    plt.title(col)\n",
    "    \n",
    "plt.show();    \n"
   ]
  },
  {
   "cell_type": "markdown",
   "metadata": {},
   "source": [
    "Видны категории, в которых процент \"отказников\" значительно выше: это PaymentMethod:Electronic check, HasContractPhone:Month-to-month, ну и еще пара категорий. Если бы у нас была задача определить, чем клиенты недовольны - надо было бы исследовать дальше в этом направлении."
   ]
  },
  {
   "cell_type": "markdown",
   "metadata": {},
   "source": [
    "Уберем неинформативные поля в некоторых признаках:"
   ]
  },
  {
   "cell_type": "code",
   "execution_count": 30,
   "metadata": {
    "execution": {
     "iopub.execute_input": "2023-03-28T07:06:54.660508Z",
     "iopub.status.busy": "2023-03-28T07:06:54.660050Z",
     "iopub.status.idle": "2023-03-28T07:06:54.677285Z",
     "shell.execute_reply": "2023-03-28T07:06:54.676240Z",
     "shell.execute_reply.started": "2023-03-28T07:06:54.660469Z"
    }
   },
   "outputs": [
    {
     "data": {
      "text/plain": [
       "{'Sex': ['Male', 'Female'],\n",
       " 'IsSeniorCitizen': [0, 1],\n",
       " 'HasPartner': ['Yes', 'No'],\n",
       " 'HasChild': ['Yes', 'No'],\n",
       " 'HasPhoneService': ['Yes', 'No'],\n",
       " 'HasMultiplePhoneNumbers': ['No', 'Yes', 'No phone service'],\n",
       " 'HasInternetService': ['No', 'Fiber optic', 'DSL'],\n",
       " 'HasOnlineSecurityService': ['No internet service', 'No', 'Yes'],\n",
       " 'HasOnlineBackup': ['No internet service', 'No', 'Yes'],\n",
       " 'HasDeviceProtection': ['No internet service', 'No', 'Yes'],\n",
       " 'HasTechSupportAccess': ['No internet service', 'Yes', 'No'],\n",
       " 'HasOnlineTV': ['No internet service', 'No', 'Yes'],\n",
       " 'HasMovieSubscription': ['No internet service', 'No', 'Yes'],\n",
       " 'HasContractPhone': ['One year', 'Two year', 'Month-to-month'],\n",
       " 'IsBillingPaperless': ['No', 'Yes'],\n",
       " 'PaymentMethod': ['Mailed check',\n",
       "  'Credit card (automatic)',\n",
       "  'Electronic check',\n",
       "  'Bank transfer (automatic)']}"
      ]
     },
     "execution_count": 30,
     "metadata": {},
     "output_type": "execute_result"
    }
   ],
   "source": [
    "{col:list(data[col].unique()) for col in cat_cols}"
   ]
  },
  {
   "cell_type": "code",
   "execution_count": 31,
   "metadata": {
    "execution": {
     "iopub.execute_input": "2023-03-28T07:06:54.679314Z",
     "iopub.status.busy": "2023-03-28T07:06:54.678885Z",
     "iopub.status.idle": "2023-03-28T07:06:54.695596Z",
     "shell.execute_reply": "2023-03-28T07:06:54.694682Z",
     "shell.execute_reply.started": "2023-03-28T07:06:54.679278Z"
    }
   },
   "outputs": [],
   "source": [
    "data = data.replace({'No internet service':'No', \n",
    "                    'No phone service':'No'})"
   ]
  },
  {
   "cell_type": "markdown",
   "metadata": {},
   "source": [
    "**На этом предварительную обработку данных закончим.**"
   ]
  },
  {
   "cell_type": "markdown",
   "metadata": {},
   "source": [
    "**Хотя можно было бы заняться конструированием новых фичей.**"
   ]
  },
  {
   "cell_type": "markdown",
   "metadata": {},
   "source": [
    "<a name=\"2\"> </a>\n",
    "# 2. Загрузка и обработка тестовых данных\n",
    "<a href=\"#b\"> back </a>"
   ]
  },
  {
   "cell_type": "code",
   "execution_count": 32,
   "metadata": {
    "execution": {
     "iopub.execute_input": "2023-03-28T07:06:54.697605Z",
     "iopub.status.busy": "2023-03-28T07:06:54.697227Z",
     "iopub.status.idle": "2023-03-28T07:06:54.711717Z",
     "shell.execute_reply": "2023-03-28T07:06:54.710791Z",
     "shell.execute_reply.started": "2023-03-28T07:06:54.697568Z"
    },
    "id": "pw-Brue9EEY3"
   },
   "outputs": [],
   "source": [
    "test_data = pd.read_csv(DATAPATH+'test.csv')"
   ]
  },
  {
   "cell_type": "code",
   "execution_count": 33,
   "metadata": {
    "execution": {
     "iopub.execute_input": "2023-03-28T07:06:54.713711Z",
     "iopub.status.busy": "2023-03-28T07:06:54.713364Z",
     "iopub.status.idle": "2023-03-28T07:06:54.727280Z",
     "shell.execute_reply": "2023-03-28T07:06:54.726056Z",
     "shell.execute_reply.started": "2023-03-28T07:06:54.713675Z"
    }
   },
   "outputs": [
    {
     "name": "stdout",
     "output_type": "stream",
     "text": [
      "<class 'pandas.core.frame.DataFrame'>\n",
      "RangeIndex: 1761 entries, 0 to 1760\n",
      "Data columns (total 19 columns):\n",
      " #   Column                    Non-Null Count  Dtype  \n",
      "---  ------                    --------------  -----  \n",
      " 0   ClientPeriod              1761 non-null   int64  \n",
      " 1   MonthlySpending           1761 non-null   float64\n",
      " 2   TotalSpent                1761 non-null   object \n",
      " 3   Sex                       1761 non-null   object \n",
      " 4   IsSeniorCitizen           1761 non-null   int64  \n",
      " 5   HasPartner                1761 non-null   object \n",
      " 6   HasChild                  1761 non-null   object \n",
      " 7   HasPhoneService           1761 non-null   object \n",
      " 8   HasMultiplePhoneNumbers   1761 non-null   object \n",
      " 9   HasInternetService        1761 non-null   object \n",
      " 10  HasOnlineSecurityService  1761 non-null   object \n",
      " 11  HasOnlineBackup           1761 non-null   object \n",
      " 12  HasDeviceProtection       1761 non-null   object \n",
      " 13  HasTechSupportAccess      1761 non-null   object \n",
      " 14  HasOnlineTV               1761 non-null   object \n",
      " 15  HasMovieSubscription      1761 non-null   object \n",
      " 16  HasContractPhone          1761 non-null   object \n",
      " 17  IsBillingPaperless        1761 non-null   object \n",
      " 18  PaymentMethod             1761 non-null   object \n",
      "dtypes: float64(1), int64(2), object(16)\n",
      "memory usage: 261.5+ KB\n"
     ]
    }
   ],
   "source": [
    "test_data.info()"
   ]
  },
  {
   "cell_type": "code",
   "execution_count": 34,
   "metadata": {
    "execution": {
     "iopub.execute_input": "2023-03-28T07:06:54.730914Z",
     "iopub.status.busy": "2023-03-28T07:06:54.730359Z",
     "iopub.status.idle": "2023-03-28T07:06:54.747361Z",
     "shell.execute_reply": "2023-03-28T07:06:54.746271Z",
     "shell.execute_reply.started": "2023-03-28T07:06:54.730877Z"
    }
   },
   "outputs": [
    {
     "data": {
      "text/plain": [
       "ClientPeriod                0\n",
       "MonthlySpending             0\n",
       "TotalSpent                  2\n",
       "Sex                         0\n",
       "IsSeniorCitizen             0\n",
       "HasPartner                  0\n",
       "HasChild                    0\n",
       "HasPhoneService             0\n",
       "HasMultiplePhoneNumbers     0\n",
       "HasInternetService          0\n",
       "HasOnlineSecurityService    0\n",
       "HasOnlineBackup             0\n",
       "HasDeviceProtection         0\n",
       "HasTechSupportAccess        0\n",
       "HasOnlineTV                 0\n",
       "HasMovieSubscription        0\n",
       "HasContractPhone            0\n",
       "IsBillingPaperless          0\n",
       "PaymentMethod               0\n",
       "dtype: int64"
      ]
     },
     "execution_count": 34,
     "metadata": {},
     "output_type": "execute_result"
    }
   ],
   "source": [
    "#повторяем обработку, примененную для Train\n",
    "test_data['TotalSpent'] = pd.to_numeric(test_data.TotalSpent.str.strip())\n",
    "test_data.isna().sum()"
   ]
  },
  {
   "cell_type": "code",
   "execution_count": 35,
   "metadata": {
    "execution": {
     "iopub.execute_input": "2023-03-28T07:06:54.749345Z",
     "iopub.status.busy": "2023-03-28T07:06:54.748940Z",
     "iopub.status.idle": "2023-03-28T07:06:54.773020Z",
     "shell.execute_reply": "2023-03-28T07:06:54.771783Z",
     "shell.execute_reply.started": "2023-03-28T07:06:54.749310Z"
    },
    "scrolled": true
   },
   "outputs": [
    {
     "data": {
      "text/html": [
       "<div>\n",
       "<style scoped>\n",
       "    .dataframe tbody tr th:only-of-type {\n",
       "        vertical-align: middle;\n",
       "    }\n",
       "\n",
       "    .dataframe tbody tr th {\n",
       "        vertical-align: top;\n",
       "    }\n",
       "\n",
       "    .dataframe thead th {\n",
       "        text-align: right;\n",
       "    }\n",
       "</style>\n",
       "<table border=\"1\" class=\"dataframe\">\n",
       "  <thead>\n",
       "    <tr style=\"text-align: right;\">\n",
       "      <th></th>\n",
       "      <th>ClientPeriod</th>\n",
       "      <th>MonthlySpending</th>\n",
       "      <th>TotalSpent</th>\n",
       "      <th>Sex</th>\n",
       "      <th>IsSeniorCitizen</th>\n",
       "      <th>HasPartner</th>\n",
       "      <th>HasChild</th>\n",
       "      <th>HasPhoneService</th>\n",
       "      <th>HasMultiplePhoneNumbers</th>\n",
       "      <th>HasInternetService</th>\n",
       "      <th>HasOnlineSecurityService</th>\n",
       "      <th>HasOnlineBackup</th>\n",
       "      <th>HasDeviceProtection</th>\n",
       "      <th>HasTechSupportAccess</th>\n",
       "      <th>HasOnlineTV</th>\n",
       "      <th>HasMovieSubscription</th>\n",
       "      <th>HasContractPhone</th>\n",
       "      <th>IsBillingPaperless</th>\n",
       "      <th>PaymentMethod</th>\n",
       "    </tr>\n",
       "  </thead>\n",
       "  <tbody>\n",
       "    <tr>\n",
       "      <th>177</th>\n",
       "      <td>0</td>\n",
       "      <td>19.85</td>\n",
       "      <td>9.925</td>\n",
       "      <td>Male</td>\n",
       "      <td>0</td>\n",
       "      <td>Yes</td>\n",
       "      <td>Yes</td>\n",
       "      <td>Yes</td>\n",
       "      <td>No</td>\n",
       "      <td>No</td>\n",
       "      <td>No internet service</td>\n",
       "      <td>No internet service</td>\n",
       "      <td>No internet service</td>\n",
       "      <td>No internet service</td>\n",
       "      <td>No internet service</td>\n",
       "      <td>No internet service</td>\n",
       "      <td>Two year</td>\n",
       "      <td>No</td>\n",
       "      <td>Mailed check</td>\n",
       "    </tr>\n",
       "    <tr>\n",
       "      <th>767</th>\n",
       "      <td>0</td>\n",
       "      <td>20.25</td>\n",
       "      <td>10.125</td>\n",
       "      <td>Male</td>\n",
       "      <td>0</td>\n",
       "      <td>No</td>\n",
       "      <td>Yes</td>\n",
       "      <td>Yes</td>\n",
       "      <td>No</td>\n",
       "      <td>No</td>\n",
       "      <td>No internet service</td>\n",
       "      <td>No internet service</td>\n",
       "      <td>No internet service</td>\n",
       "      <td>No internet service</td>\n",
       "      <td>No internet service</td>\n",
       "      <td>No internet service</td>\n",
       "      <td>Two year</td>\n",
       "      <td>No</td>\n",
       "      <td>Mailed check</td>\n",
       "    </tr>\n",
       "  </tbody>\n",
       "</table>\n",
       "</div>"
      ],
      "text/plain": [
       "     ClientPeriod  MonthlySpending  TotalSpent   Sex  IsSeniorCitizen  \\\n",
       "177             0            19.85       9.925  Male                0   \n",
       "767             0            20.25      10.125  Male                0   \n",
       "\n",
       "    HasPartner HasChild HasPhoneService HasMultiplePhoneNumbers  \\\n",
       "177        Yes      Yes             Yes                      No   \n",
       "767         No      Yes             Yes                      No   \n",
       "\n",
       "    HasInternetService HasOnlineSecurityService      HasOnlineBackup  \\\n",
       "177                 No      No internet service  No internet service   \n",
       "767                 No      No internet service  No internet service   \n",
       "\n",
       "     HasDeviceProtection HasTechSupportAccess          HasOnlineTV  \\\n",
       "177  No internet service  No internet service  No internet service   \n",
       "767  No internet service  No internet service  No internet service   \n",
       "\n",
       "    HasMovieSubscription HasContractPhone IsBillingPaperless PaymentMethod  \n",
       "177  No internet service         Two year                 No  Mailed check  \n",
       "767  No internet service         Two year                 No  Mailed check  "
      ]
     },
     "execution_count": 35,
     "metadata": {},
     "output_type": "execute_result"
    }
   ],
   "source": [
    "#заполним половиной месячного расхода\n",
    "test_data.loc[test_data['TotalSpent'].isna(), 'TotalSpent'] = test_data.loc[test_data['TotalSpent'].isna(), 'MonthlySpending'] /2\n",
    "test_data[test_data.ClientPeriod == 0]"
   ]
  },
  {
   "cell_type": "code",
   "execution_count": 36,
   "metadata": {
    "execution": {
     "iopub.execute_input": "2023-03-28T07:06:54.779241Z",
     "iopub.status.busy": "2023-03-28T07:06:54.778493Z",
     "iopub.status.idle": "2023-03-28T07:06:54.789031Z",
     "shell.execute_reply": "2023-03-28T07:06:54.787837Z",
     "shell.execute_reply.started": "2023-03-28T07:06:54.779213Z"
    }
   },
   "outputs": [],
   "source": [
    "# добавим логирифмированные фичи и среднее\n",
    "test_data['TotalSpentLog'] = np.log(test_data['TotalSpent'])\n",
    "test_data['MonSpentLog'] = np.log1p(test_data['MonthlySpending'])\n",
    "test_data['TotalSpentMean'] = test_data.TotalSpent / (test_data.ClientPeriod+1)"
   ]
  },
  {
   "cell_type": "code",
   "execution_count": 37,
   "metadata": {
    "execution": {
     "iopub.execute_input": "2023-03-28T07:06:54.791173Z",
     "iopub.status.busy": "2023-03-28T07:06:54.790696Z",
     "iopub.status.idle": "2023-03-28T07:06:54.803368Z",
     "shell.execute_reply": "2023-03-28T07:06:54.802416Z",
     "shell.execute_reply.started": "2023-03-28T07:06:54.791094Z"
    }
   },
   "outputs": [],
   "source": [
    "test_data = test_data.replace({'No internet service':'No', \n",
    "                    'No phone service':'No'})"
   ]
  },
  {
   "cell_type": "code",
   "execution_count": 38,
   "metadata": {
    "execution": {
     "iopub.execute_input": "2023-03-28T07:06:54.805643Z",
     "iopub.status.busy": "2023-03-28T07:06:54.804863Z",
     "iopub.status.idle": "2023-03-28T07:06:54.836837Z",
     "shell.execute_reply": "2023-03-28T07:06:54.835776Z",
     "shell.execute_reply.started": "2023-03-28T07:06:54.805606Z"
    }
   },
   "outputs": [
    {
     "data": {
      "text/html": [
       "<div>\n",
       "<style scoped>\n",
       "    .dataframe tbody tr th:only-of-type {\n",
       "        vertical-align: middle;\n",
       "    }\n",
       "\n",
       "    .dataframe tbody tr th {\n",
       "        vertical-align: top;\n",
       "    }\n",
       "\n",
       "    .dataframe thead th {\n",
       "        text-align: right;\n",
       "    }\n",
       "</style>\n",
       "<table border=\"1\" class=\"dataframe\">\n",
       "  <thead>\n",
       "    <tr style=\"text-align: right;\">\n",
       "      <th></th>\n",
       "      <th>ClientPeriod</th>\n",
       "      <th>MonthlySpending</th>\n",
       "      <th>TotalSpent</th>\n",
       "      <th>IsSeniorCitizen</th>\n",
       "      <th>TotalSpentLog</th>\n",
       "      <th>MonSpentLog</th>\n",
       "      <th>TotalSpentMean</th>\n",
       "    </tr>\n",
       "  </thead>\n",
       "  <tbody>\n",
       "    <tr>\n",
       "      <th>count</th>\n",
       "      <td>1761.000000</td>\n",
       "      <td>1761.000000</td>\n",
       "      <td>1761.000000</td>\n",
       "      <td>1761.000000</td>\n",
       "      <td>1761.000000</td>\n",
       "      <td>1761.000000</td>\n",
       "      <td>1761.000000</td>\n",
       "    </tr>\n",
       "    <tr>\n",
       "      <th>mean</th>\n",
       "      <td>32.293583</td>\n",
       "      <td>64.272601</td>\n",
       "      <td>2256.494520</td>\n",
       "      <td>0.170358</td>\n",
       "      <td>6.917553</td>\n",
       "      <td>4.036474</td>\n",
       "      <td>58.530204</td>\n",
       "    </tr>\n",
       "    <tr>\n",
       "      <th>std</th>\n",
       "      <td>24.593736</td>\n",
       "      <td>29.832517</td>\n",
       "      <td>2260.490448</td>\n",
       "      <td>0.376054</td>\n",
       "      <td>1.566571</td>\n",
       "      <td>0.579138</td>\n",
       "      <td>30.304122</td>\n",
       "    </tr>\n",
       "    <tr>\n",
       "      <th>min</th>\n",
       "      <td>0.000000</td>\n",
       "      <td>18.550000</td>\n",
       "      <td>9.925000</td>\n",
       "      <td>0.000000</td>\n",
       "      <td>2.295057</td>\n",
       "      <td>2.972975</td>\n",
       "      <td>9.425000</td>\n",
       "    </tr>\n",
       "    <tr>\n",
       "      <th>25%</th>\n",
       "      <td>9.000000</td>\n",
       "      <td>35.650000</td>\n",
       "      <td>405.600000</td>\n",
       "      <td>0.000000</td>\n",
       "      <td>6.005367</td>\n",
       "      <td>3.601413</td>\n",
       "      <td>26.750000</td>\n",
       "    </tr>\n",
       "    <tr>\n",
       "      <th>50%</th>\n",
       "      <td>29.000000</td>\n",
       "      <td>70.050000</td>\n",
       "      <td>1356.300000</td>\n",
       "      <td>0.000000</td>\n",
       "      <td>7.212516</td>\n",
       "      <td>4.263384</td>\n",
       "      <td>60.550000</td>\n",
       "    </tr>\n",
       "    <tr>\n",
       "      <th>75%</th>\n",
       "      <td>56.000000</td>\n",
       "      <td>89.400000</td>\n",
       "      <td>3759.050000</td>\n",
       "      <td>0.000000</td>\n",
       "      <td>8.231922</td>\n",
       "      <td>4.504244</td>\n",
       "      <td>83.944565</td>\n",
       "    </tr>\n",
       "    <tr>\n",
       "      <th>max</th>\n",
       "      <td>72.000000</td>\n",
       "      <td>117.350000</td>\n",
       "      <td>8496.700000</td>\n",
       "      <td>1.000000</td>\n",
       "      <td>9.047433</td>\n",
       "      <td>4.773646</td>\n",
       "      <td>116.393151</td>\n",
       "    </tr>\n",
       "  </tbody>\n",
       "</table>\n",
       "</div>"
      ],
      "text/plain": [
       "       ClientPeriod  MonthlySpending   TotalSpent  IsSeniorCitizen  \\\n",
       "count   1761.000000      1761.000000  1761.000000      1761.000000   \n",
       "mean      32.293583        64.272601  2256.494520         0.170358   \n",
       "std       24.593736        29.832517  2260.490448         0.376054   \n",
       "min        0.000000        18.550000     9.925000         0.000000   \n",
       "25%        9.000000        35.650000   405.600000         0.000000   \n",
       "50%       29.000000        70.050000  1356.300000         0.000000   \n",
       "75%       56.000000        89.400000  3759.050000         0.000000   \n",
       "max       72.000000       117.350000  8496.700000         1.000000   \n",
       "\n",
       "       TotalSpentLog  MonSpentLog  TotalSpentMean  \n",
       "count    1761.000000  1761.000000     1761.000000  \n",
       "mean        6.917553     4.036474       58.530204  \n",
       "std         1.566571     0.579138       30.304122  \n",
       "min         2.295057     2.972975        9.425000  \n",
       "25%         6.005367     3.601413       26.750000  \n",
       "50%         7.212516     4.263384       60.550000  \n",
       "75%         8.231922     4.504244       83.944565  \n",
       "max         9.047433     4.773646      116.393151  "
      ]
     },
     "execution_count": 38,
     "metadata": {},
     "output_type": "execute_result"
    }
   ],
   "source": [
    "test_data.describe()"
   ]
  },
  {
   "cell_type": "markdown",
   "metadata": {},
   "source": [
    "### Тестовые данные загружены и подготовлены."
   ]
  },
  {
   "cell_type": "markdown",
   "metadata": {},
   "source": [
    "<a name=\"3\"> </a>\n",
    "# 3. Логистическая регрессия\n",
    "<a href=\"#b\"> back </a>"
   ]
  },
  {
   "cell_type": "code",
   "execution_count": 46,
   "metadata": {
    "execution": {
     "iopub.execute_input": "2023-03-27T19:25:27.673601Z",
     "iopub.status.busy": "2023-03-27T19:25:27.672618Z",
     "iopub.status.idle": "2023-03-27T19:25:35.825217Z",
     "shell.execute_reply": "2023-03-27T19:25:35.824241Z",
     "shell.execute_reply.started": "2023-03-27T19:25:27.673561Z"
    }
   },
   "outputs": [
    {
     "data": {
      "text/plain": [
       "{'alg__C': 0.1368421052631579,\n",
       " 'alg__penalty': 'l1',\n",
       " 'alg__solver': 'liblinear'}"
      ]
     },
     "execution_count": 46,
     "metadata": {},
     "output_type": "execute_result"
    }
   ],
   "source": [
    "preproc = ColumnTransformer([\n",
    "    ('num', StandardScaler(), num_cols), \n",
    "    ('cat', OneHotEncoder(handle_unknown='ignore', sparse=False, drop='if_binary'), cat_cols)],\n",
    "     verbose_feature_names_out = False)\n",
    "\n",
    "lrmodel = Pipeline(steps=[\n",
    "    ('enc', preproc), \n",
    "    ('alg', LogisticRegression(max_iter=200))\n",
    "])\n",
    "\n",
    "params = {\n",
    "    'alg__C':np.linspace(0.1, 0.2, 20), #np.linspace(0.08, 0.2, 20),\n",
    "    'alg__penalty':['l1'], #['l1', 'l2'], \n",
    "    'alg__solver':['liblinear'] #['lbfgs', 'liblinear', 'saga']\n",
    "}\n",
    "\n",
    "lr = GridSearchCV(lrmodel, params, cv=5, verbose=0, n_jobs=-1, scoring='roc_auc')\n",
    "\n",
    "lr.fit(data.drop(target_col, axis='columns'), data[target_col])\n",
    "lr.best_params_\n"
   ]
  },
  {
   "cell_type": "code",
   "execution_count": 47,
   "metadata": {
    "execution": {
     "iopub.execute_input": "2023-03-27T19:25:44.876264Z",
     "iopub.status.busy": "2023-03-27T19:25:44.875850Z",
     "iopub.status.idle": "2023-03-27T19:25:44.905936Z",
     "shell.execute_reply": "2023-03-27T19:25:44.904936Z",
     "shell.execute_reply.started": "2023-03-27T19:25:44.876227Z"
    }
   },
   "outputs": [
    {
     "data": {
      "text/html": [
       "<div>\n",
       "<style scoped>\n",
       "    .dataframe tbody tr th:only-of-type {\n",
       "        vertical-align: middle;\n",
       "    }\n",
       "\n",
       "    .dataframe tbody tr th {\n",
       "        vertical-align: top;\n",
       "    }\n",
       "\n",
       "    .dataframe thead th {\n",
       "        text-align: right;\n",
       "    }\n",
       "</style>\n",
       "<table border=\"1\" class=\"dataframe\">\n",
       "  <thead>\n",
       "    <tr style=\"text-align: right;\">\n",
       "      <th></th>\n",
       "      <th>mean_fit_time</th>\n",
       "      <th>std_fit_time</th>\n",
       "      <th>mean_score_time</th>\n",
       "      <th>std_score_time</th>\n",
       "      <th>param_alg__C</th>\n",
       "      <th>param_alg__penalty</th>\n",
       "      <th>param_alg__solver</th>\n",
       "      <th>params</th>\n",
       "      <th>split0_test_score</th>\n",
       "      <th>split1_test_score</th>\n",
       "      <th>split2_test_score</th>\n",
       "      <th>split3_test_score</th>\n",
       "      <th>split4_test_score</th>\n",
       "      <th>mean_test_score</th>\n",
       "      <th>std_test_score</th>\n",
       "      <th>rank_test_score</th>\n",
       "    </tr>\n",
       "  </thead>\n",
       "  <tbody>\n",
       "    <tr>\n",
       "      <th>7</th>\n",
       "      <td>0.129108</td>\n",
       "      <td>0.016231</td>\n",
       "      <td>0.017257</td>\n",
       "      <td>0.000496</td>\n",
       "      <td>0.136842</td>\n",
       "      <td>l1</td>\n",
       "      <td>liblinear</td>\n",
       "      <td>{'alg__C': 0.1368421052631579, 'alg__penalty':...</td>\n",
       "      <td>0.866953</td>\n",
       "      <td>0.845266</td>\n",
       "      <td>0.839862</td>\n",
       "      <td>0.856060</td>\n",
       "      <td>0.838444</td>\n",
       "      <td>0.849317</td>\n",
       "      <td>0.010775</td>\n",
       "      <td>1</td>\n",
       "    </tr>\n",
       "    <tr>\n",
       "      <th>3</th>\n",
       "      <td>0.115509</td>\n",
       "      <td>0.024122</td>\n",
       "      <td>0.016729</td>\n",
       "      <td>0.000252</td>\n",
       "      <td>0.115789</td>\n",
       "      <td>l1</td>\n",
       "      <td>liblinear</td>\n",
       "      <td>{'alg__C': 0.11578947368421053, 'alg__penalty'...</td>\n",
       "      <td>0.866901</td>\n",
       "      <td>0.845932</td>\n",
       "      <td>0.839805</td>\n",
       "      <td>0.855703</td>\n",
       "      <td>0.838224</td>\n",
       "      <td>0.849313</td>\n",
       "      <td>0.010723</td>\n",
       "      <td>2</td>\n",
       "    </tr>\n",
       "    <tr>\n",
       "      <th>4</th>\n",
       "      <td>0.127244</td>\n",
       "      <td>0.020519</td>\n",
       "      <td>0.020529</td>\n",
       "      <td>0.002718</td>\n",
       "      <td>0.121053</td>\n",
       "      <td>l1</td>\n",
       "      <td>liblinear</td>\n",
       "      <td>{'alg__C': 0.12105263157894737, 'alg__penalty'...</td>\n",
       "      <td>0.866868</td>\n",
       "      <td>0.845730</td>\n",
       "      <td>0.839805</td>\n",
       "      <td>0.855858</td>\n",
       "      <td>0.838294</td>\n",
       "      <td>0.849311</td>\n",
       "      <td>0.010730</td>\n",
       "      <td>3</td>\n",
       "    </tr>\n",
       "    <tr>\n",
       "      <th>6</th>\n",
       "      <td>0.119491</td>\n",
       "      <td>0.018873</td>\n",
       "      <td>0.017683</td>\n",
       "      <td>0.000618</td>\n",
       "      <td>0.131579</td>\n",
       "      <td>l1</td>\n",
       "      <td>liblinear</td>\n",
       "      <td>{'alg__C': 0.13157894736842107, 'alg__penalty'...</td>\n",
       "      <td>0.866901</td>\n",
       "      <td>0.845383</td>\n",
       "      <td>0.839819</td>\n",
       "      <td>0.856036</td>\n",
       "      <td>0.838322</td>\n",
       "      <td>0.849292</td>\n",
       "      <td>0.010779</td>\n",
       "      <td>4</td>\n",
       "    </tr>\n",
       "    <tr>\n",
       "      <th>5</th>\n",
       "      <td>0.116114</td>\n",
       "      <td>0.017675</td>\n",
       "      <td>0.016935</td>\n",
       "      <td>0.000914</td>\n",
       "      <td>0.126316</td>\n",
       "      <td>l1</td>\n",
       "      <td>liblinear</td>\n",
       "      <td>{'alg__C': 0.12631578947368421, 'alg__penalty'...</td>\n",
       "      <td>0.866859</td>\n",
       "      <td>0.845571</td>\n",
       "      <td>0.839791</td>\n",
       "      <td>0.855966</td>\n",
       "      <td>0.838252</td>\n",
       "      <td>0.849288</td>\n",
       "      <td>0.010762</td>\n",
       "      <td>5</td>\n",
       "    </tr>\n",
       "  </tbody>\n",
       "</table>\n",
       "</div>"
      ],
      "text/plain": [
       "   mean_fit_time  std_fit_time  mean_score_time  std_score_time param_alg__C  \\\n",
       "7       0.129108      0.016231         0.017257        0.000496     0.136842   \n",
       "3       0.115509      0.024122         0.016729        0.000252     0.115789   \n",
       "4       0.127244      0.020519         0.020529        0.002718     0.121053   \n",
       "6       0.119491      0.018873         0.017683        0.000618     0.131579   \n",
       "5       0.116114      0.017675         0.016935        0.000914     0.126316   \n",
       "\n",
       "  param_alg__penalty param_alg__solver  \\\n",
       "7                 l1         liblinear   \n",
       "3                 l1         liblinear   \n",
       "4                 l1         liblinear   \n",
       "6                 l1         liblinear   \n",
       "5                 l1         liblinear   \n",
       "\n",
       "                                              params  split0_test_score  \\\n",
       "7  {'alg__C': 0.1368421052631579, 'alg__penalty':...           0.866953   \n",
       "3  {'alg__C': 0.11578947368421053, 'alg__penalty'...           0.866901   \n",
       "4  {'alg__C': 0.12105263157894737, 'alg__penalty'...           0.866868   \n",
       "6  {'alg__C': 0.13157894736842107, 'alg__penalty'...           0.866901   \n",
       "5  {'alg__C': 0.12631578947368421, 'alg__penalty'...           0.866859   \n",
       "\n",
       "   split1_test_score  split2_test_score  split3_test_score  split4_test_score  \\\n",
       "7           0.845266           0.839862           0.856060           0.838444   \n",
       "3           0.845932           0.839805           0.855703           0.838224   \n",
       "4           0.845730           0.839805           0.855858           0.838294   \n",
       "6           0.845383           0.839819           0.856036           0.838322   \n",
       "5           0.845571           0.839791           0.855966           0.838252   \n",
       "\n",
       "   mean_test_score  std_test_score  rank_test_score  \n",
       "7         0.849317        0.010775                1  \n",
       "3         0.849313        0.010723                2  \n",
       "4         0.849311        0.010730                3  \n",
       "6         0.849292        0.010779                4  \n",
       "5         0.849288        0.010762                5  "
      ]
     },
     "execution_count": 47,
     "metadata": {},
     "output_type": "execute_result"
    }
   ],
   "source": [
    "pd.DataFrame(lr.cv_results_).sort_values(by='mean_test_score', ascending=False).head()"
   ]
  },
  {
   "cell_type": "code",
   "execution_count": 48,
   "metadata": {
    "execution": {
     "iopub.execute_input": "2023-03-27T19:25:50.410017Z",
     "iopub.status.busy": "2023-03-27T19:25:50.409326Z",
     "iopub.status.idle": "2023-03-27T19:25:50.493755Z",
     "shell.execute_reply": "2023-03-27T19:25:50.492524Z",
     "shell.execute_reply.started": "2023-03-27T19:25:50.409979Z"
    }
   },
   "outputs": [
    {
     "data": {
      "text/plain": [
       "(0.8523369791810264,)"
      ]
     },
     "execution_count": 48,
     "metadata": {},
     "output_type": "execute_result"
    }
   ],
   "source": [
    "y_train_predict = lr.predict_proba(data.drop(target_col, axis='columns'))\n",
    "y_test_predict = lr.predict_proba(test_data)\n",
    "\n",
    "roc_auc_score(data[target_col], y_train_predict[:,1]), "
   ]
  },
  {
   "cell_type": "code",
   "execution_count": 49,
   "metadata": {
    "execution": {
     "iopub.execute_input": "2023-03-27T19:26:08.454413Z",
     "iopub.status.busy": "2023-03-27T19:26:08.453711Z",
     "iopub.status.idle": "2023-03-27T19:26:08.468495Z",
     "shell.execute_reply": "2023-03-27T19:26:08.467267Z",
     "shell.execute_reply.started": "2023-03-27T19:26:08.454371Z"
    }
   },
   "outputs": [],
   "source": [
    "submit = pd.read_csv('/kaggle/input/advanced-dls-spring-2021/submission.csv', index_col='Id')\n",
    "\n",
    "submit['Churn'] = y_test_predict[:,1]\n",
    "\n",
    "submit.to_csv('submission.csv')"
   ]
  },
  {
   "attachments": {
    "357173b5-ab3f-441d-8aee-76d82b497b71.png": {
     "image/png": "[encoded data removed]"
    }
   },
   "cell_type": "markdown",
   "metadata": {},
   "source": [
    "![image.png](attachment:357173b5-ab3f-441d-8aee-76d82b497b71.png)"
   ]
  },
  {
   "cell_type": "markdown",
   "metadata": {},
   "source": [
    "**Kaggle 0.85323**"
   ]
  },
  {
   "cell_type": "code",
   "execution_count": 107,
   "metadata": {
    "execution": {
     "iopub.execute_input": "2023-03-27T20:12:54.681046Z",
     "iopub.status.busy": "2023-03-27T20:12:54.680140Z",
     "iopub.status.idle": "2023-03-27T20:12:57.611514Z",
     "shell.execute_reply": "2023-03-27T20:12:57.610359Z",
     "shell.execute_reply.started": "2023-03-27T20:12:54.680994Z"
    }
   },
   "outputs": [
    {
     "data": {
      "text/plain": [
       "{'alg__C': 25,\n",
       " 'alg__penalty': 'l1',\n",
       " 'alg__solver': 'liblinear',\n",
       " 'enc__num__n_components': 5}"
      ]
     },
     "execution_count": 107,
     "metadata": {},
     "output_type": "execute_result"
    }
   ],
   "source": [
    "preproc = ColumnTransformer([\n",
    "    ('num', PCA(), num_cols), \n",
    "    ('cat', OneHotEncoder(handle_unknown='ignore', sparse=False, drop='if_binary'), cat_cols)],\n",
    "     verbose_feature_names_out = False)\n",
    "\n",
    "lrmodel = Pipeline(steps=[\n",
    "    ('enc', preproc), \n",
    "    ('alg', LogisticRegression(max_iter=200))\n",
    "])\n",
    "\n",
    "params = {\n",
    "    'alg__C': [25], #np.linspace(10, 40, 10),\n",
    "    'alg__penalty':['l1'], # 'l2'], \n",
    "    'alg__solver':['liblinear'], #'saga', #'lbfgs', \n",
    "    'enc__num__n_components': [5]\n",
    "}\n",
    "\n",
    "lr = GridSearchCV(lrmodel, params, cv=5, verbose=0, n_jobs=-1, scoring='roc_auc')\n",
    "\n",
    "lr.fit(data.drop(target_col, axis='columns'), data[target_col])\n",
    "lr.best_params_"
   ]
  },
  {
   "cell_type": "code",
   "execution_count": 108,
   "metadata": {
    "execution": {
     "iopub.execute_input": "2023-03-27T20:12:59.911480Z",
     "iopub.status.busy": "2023-03-27T20:12:59.910454Z",
     "iopub.status.idle": "2023-03-27T20:12:59.931296Z",
     "shell.execute_reply": "2023-03-27T20:12:59.929943Z",
     "shell.execute_reply.started": "2023-03-27T20:12:59.911423Z"
    }
   },
   "outputs": [
    {
     "data": {
      "text/html": [
       "<div>\n",
       "<style scoped>\n",
       "    .dataframe tbody tr th:only-of-type {\n",
       "        vertical-align: middle;\n",
       "    }\n",
       "\n",
       "    .dataframe tbody tr th {\n",
       "        vertical-align: top;\n",
       "    }\n",
       "\n",
       "    .dataframe thead th {\n",
       "        text-align: right;\n",
       "    }\n",
       "</style>\n",
       "<table border=\"1\" class=\"dataframe\">\n",
       "  <thead>\n",
       "    <tr style=\"text-align: right;\">\n",
       "      <th></th>\n",
       "      <th>param_alg__C</th>\n",
       "      <th>param_alg__penalty</th>\n",
       "      <th>param_alg__solver</th>\n",
       "      <th>param_enc__num__n_components</th>\n",
       "      <th>mean_test_score</th>\n",
       "    </tr>\n",
       "  </thead>\n",
       "  <tbody>\n",
       "    <tr>\n",
       "      <th>0</th>\n",
       "      <td>25</td>\n",
       "      <td>l1</td>\n",
       "      <td>liblinear</td>\n",
       "      <td>5</td>\n",
       "      <td>0.849042</td>\n",
       "    </tr>\n",
       "  </tbody>\n",
       "</table>\n",
       "</div>"
      ],
      "text/plain": [
       "  param_alg__C param_alg__penalty param_alg__solver  \\\n",
       "0           25                 l1         liblinear   \n",
       "\n",
       "  param_enc__num__n_components  mean_test_score  \n",
       "0                            5         0.849042  "
      ]
     },
     "execution_count": 108,
     "metadata": {},
     "output_type": "execute_result"
    }
   ],
   "source": [
    "pd.DataFrame(lr.cv_results_).sort_values(by='mean_test_score', ascending=False).iloc[:5, [4, 5, 6, 7, 14]]"
   ]
  },
  {
   "cell_type": "code",
   "execution_count": 109,
   "metadata": {
    "execution": {
     "iopub.execute_input": "2023-03-27T20:13:01.498935Z",
     "iopub.status.busy": "2023-03-27T20:13:01.498242Z",
     "iopub.status.idle": "2023-03-27T20:13:01.582000Z",
     "shell.execute_reply": "2023-03-27T20:13:01.580618Z",
     "shell.execute_reply.started": "2023-03-27T20:13:01.498892Z"
    }
   },
   "outputs": [
    {
     "data": {
      "text/plain": [
       "(0.8531225459829,)"
      ]
     },
     "execution_count": 109,
     "metadata": {},
     "output_type": "execute_result"
    }
   ],
   "source": [
    "y_train_predict = lr.predict_proba(data.drop(target_col, axis='columns'))\n",
    "y_test_predict = lr.predict_proba(test_data)\n",
    "\n",
    "roc_auc_score(data[target_col], y_train_predict[:,1]), "
   ]
  },
  {
   "cell_type": "code",
   "execution_count": 110,
   "metadata": {
    "execution": {
     "iopub.execute_input": "2023-03-27T20:13:14.752078Z",
     "iopub.status.busy": "2023-03-27T20:13:14.751490Z",
     "iopub.status.idle": "2023-03-27T20:13:14.767316Z",
     "shell.execute_reply": "2023-03-27T20:13:14.766333Z",
     "shell.execute_reply.started": "2023-03-27T20:13:14.752041Z"
    }
   },
   "outputs": [],
   "source": [
    "submit = pd.read_csv('/kaggle/input/advanced-dls-spring-2021/submission.csv', index_col='Id')\n",
    "\n",
    "submit['Churn'] = y_test_predict[:,1]\n",
    "\n",
    "submit.to_csv('submission_pca.csv')"
   ]
  },
  {
   "attachments": {
    "eed8c228-df28-440c-af17-91059d41d28a.png": {
     "image/png": "[encoded data removed]"
    }
   },
   "cell_type": "markdown",
   "metadata": {},
   "source": [
    "![image.png](attachment:eed8c228-df28-440c-af17-91059d41d28a.png)"
   ]
  },
  {
   "cell_type": "markdown",
   "metadata": {},
   "source": [
    "<a name=\"4\"> </a>\n",
    "# 4. Лес решающих деревьев\n",
    "<a href=\"#b\"> back </a>"
   ]
  },
  {
   "cell_type": "code",
   "execution_count": 53,
   "metadata": {
    "execution": {
     "iopub.execute_input": "2023-03-28T06:42:36.430206Z",
     "iopub.status.busy": "2023-03-28T06:42:36.428579Z",
     "iopub.status.idle": "2023-03-28T06:42:42.557652Z",
     "shell.execute_reply": "2023-03-28T06:42:42.556190Z",
     "shell.execute_reply.started": "2023-03-28T06:42:36.430147Z"
    },
    "scrolled": true
   },
   "outputs": [
    {
     "name": "stdout",
     "output_type": "stream",
     "text": [
      "Fitting 5 folds for each of 1 candidates, totalling 5 fits\n"
     ]
    },
    {
     "data": {
      "text/plain": [
       "RandomizedSearchCV(cv=5,\n",
       "                   estimator=Pipeline(steps=[('enc',\n",
       "                                              ColumnTransformer(transformers=[('num',\n",
       "                                                                               'passthrough',\n",
       "                                                                               ['MonthlySpending',\n",
       "                                                                                'TotalSpentLog',\n",
       "                                                                                'ClientPeriod',\n",
       "                                                                                'MonSpentLog',\n",
       "                                                                                'TotalSpent',\n",
       "                                                                                'TotalSpentMean']),\n",
       "                                                                              ('cat',\n",
       "                                                                               OneHotEncoder(drop='if_binary',\n",
       "                                                                                             handle_unknown='ignore',\n",
       "                                                                                             sparse=False),\n",
       "                                                                               ['Sex',\n",
       "                                                                                'IsSeniorCitizen',\n",
       "                                                                                'HasPartner',\n",
       "                                                                                'HasChild',\n",
       "                                                                                'HasPhoneService',\n",
       "                                                                                '...\n",
       "                                                                                'HasDeviceProtection',\n",
       "                                                                                'HasTechSupportAccess',\n",
       "                                                                                'HasOnlineTV',\n",
       "                                                                                'HasMovieSubscription',\n",
       "                                                                                'HasContractPhone',\n",
       "                                                                                'IsBillingPaperless',\n",
       "                                                                                'PaymentMethod'])],\n",
       "                                                                verbose_feature_names_out=False)),\n",
       "                                             ('alg',\n",
       "                                              RandomForestClassifier())]),\n",
       "                   n_iter=200, n_jobs=-1,\n",
       "                   param_distributions={'alg__criterion': ['entropy'],\n",
       "                                        'alg__max_depth': [6],\n",
       "                                        'alg__n_estimators': [300]},\n",
       "                   scoring='roc_auc', verbose=10)"
      ]
     },
     "execution_count": 53,
     "metadata": {},
     "output_type": "execute_result"
    }
   ],
   "source": [
    "preproc = ColumnTransformer([\n",
    "    ('num', 'passthrough', num_cols), \n",
    "    ('cat', OneHotEncoder(handle_unknown='ignore', sparse=False, drop='if_binary'), cat_cols)],\n",
    "     verbose_feature_names_out = False)\n",
    "\n",
    "rfmodel = Pipeline(steps=[\n",
    "    ('enc', preproc), \n",
    "    ('alg', RandomForestClassifier())\n",
    "])\n",
    "\n",
    "params = {\n",
    "    'alg__n_estimators': [300], #[100],\n",
    "    'alg__max_depth': [6], #np.arange(3, 20),\n",
    "    'alg__criterion':['entropy'], #['gini', 'entropy'],\n",
    "    #'alg__min_samples_split': np.arange(2, 10), \n",
    "    #'alg__min_samples_leaf': np.arange(1, 10)\n",
    "}\n",
    "\n",
    "rf = RandomizedSearchCV(rfmodel, params, cv=5, verbose=10, n_jobs=-1, scoring='roc_auc', n_iter=200)\n",
    "# rf = GridSearchCV(rfmodel, params, cv=5, verbose=10, n_jobs=-1, scoring='roc_auc')\n",
    "\n",
    "rf.fit(data.drop(target_col, axis='columns'), data[target_col])"
   ]
  },
  {
   "cell_type": "code",
   "execution_count": 54,
   "metadata": {
    "execution": {
     "iopub.execute_input": "2023-03-28T06:42:49.160444Z",
     "iopub.status.busy": "2023-03-28T06:42:49.159588Z",
     "iopub.status.idle": "2023-03-28T06:42:49.176375Z",
     "shell.execute_reply": "2023-03-28T06:42:49.174956Z",
     "shell.execute_reply.started": "2023-03-28T06:42:49.160381Z"
    }
   },
   "outputs": [
    {
     "data": {
      "text/plain": [
       "0    0.842843\n",
       "Name: mean_test_score, dtype: float64"
      ]
     },
     "execution_count": 54,
     "metadata": {},
     "output_type": "execute_result"
    }
   ],
   "source": [
    "pd.DataFrame(rf.cv_results_).sort_values(by='mean_test_score', ascending=False)['mean_test_score'].head()"
   ]
  },
  {
   "cell_type": "code",
   "execution_count": 55,
   "metadata": {
    "execution": {
     "iopub.execute_input": "2023-03-28T06:43:00.437875Z",
     "iopub.status.busy": "2023-03-28T06:43:00.437398Z",
     "iopub.status.idle": "2023-03-28T06:43:00.801981Z",
     "shell.execute_reply": "2023-03-28T06:43:00.800690Z",
     "shell.execute_reply.started": "2023-03-28T06:43:00.437834Z"
    }
   },
   "outputs": [
    {
     "data": {
      "text/plain": [
       "(0.8737553731662685,)"
      ]
     },
     "execution_count": 55,
     "metadata": {},
     "output_type": "execute_result"
    }
   ],
   "source": [
    "y_train_predict = rf.predict_proba(data.drop(target_col, axis='columns'))\n",
    "y_test_predict = rf.predict_proba(test_data)\n",
    "\n",
    "roc_auc_score(data[target_col], y_train_predict[:,1]), "
   ]
  },
  {
   "cell_type": "code",
   "execution_count": 56,
   "metadata": {
    "execution": {
     "iopub.execute_input": "2023-03-28T06:43:38.317620Z",
     "iopub.status.busy": "2023-03-28T06:43:38.317118Z",
     "iopub.status.idle": "2023-03-28T06:43:38.351509Z",
     "shell.execute_reply": "2023-03-28T06:43:38.350087Z",
     "shell.execute_reply.started": "2023-03-28T06:43:38.317575Z"
    }
   },
   "outputs": [],
   "source": [
    "submit = pd.read_csv('/kaggle/input/advanced-dls-spring-2021/submission.csv', index_col='Id')\n",
    "\n",
    "submit['Churn'] = y_test_predict[:,1]\n",
    "\n",
    "submit.to_csv('rf_cat_feat_reduced.csv')"
   ]
  },
  {
   "cell_type": "markdown",
   "metadata": {},
   "source": [
    "**Kaggle показал 0.85353 (было 0.85198 с одним логарифмом)**"
   ]
  },
  {
   "cell_type": "markdown",
   "metadata": {
    "id": "BlTeVy7fEEZR"
   },
   "source": [
    "<a name=\"5\"> </a>\n",
    "# 5. Градиентный бустинг\n",
    "\n",
    "<a href=\"#b\"> back </a><br>"
   ]
  },
  {
   "cell_type": "code",
   "execution_count": 39,
   "metadata": {
    "execution": {
     "iopub.execute_input": "2023-03-28T07:07:11.429648Z",
     "iopub.status.busy": "2023-03-28T07:07:11.429169Z",
     "iopub.status.idle": "2023-03-28T07:07:11.470593Z",
     "shell.execute_reply": "2023-03-28T07:07:11.469563Z",
     "shell.execute_reply.started": "2023-03-28T07:07:11.429606Z"
    },
    "id": "Fioxxlp-EEZS"
   },
   "outputs": [],
   "source": [
    "from catboost import CatBoostClassifier, Pool, cv\n",
    "\n",
    "datapool = Pool(data=data.drop(target_col, axis='columns'), label=data[target_col], cat_features=cat_cols)"
   ]
  },
  {
   "cell_type": "code",
   "execution_count": 40,
   "metadata": {
    "execution": {
     "iopub.execute_input": "2023-03-28T07:12:46.197029Z",
     "iopub.status.busy": "2023-03-28T07:12:46.196228Z"
    },
    "scrolled": true
   },
   "outputs": [
    {
     "name": "stdout",
     "output_type": "stream",
     "text": [
      "\n",
      "bestTest = 0.8682133605\n",
      "bestIteration = 97\n",
      "\n",
      "0:\tloss: 0.8682134\tbest: 0.8682134 (0)\ttotal: 1.3s\tremaining: 0us\n",
      "Estimating final quality...\n",
      "Training on fold [0/3]\n",
      "\n",
      "bestTest = 0.8360422723\n",
      "bestIteration = 98\n",
      "\n",
      "Training on fold [1/3]\n",
      "\n",
      "bestTest = 0.8520215374\n",
      "bestIteration = 99\n",
      "\n",
      "Training on fold [2/3]\n",
      "\n",
      "bestTest = 0.8504479361\n",
      "bestIteration = 88\n",
      "\n",
      "CPU times: total: 19.5 s\n",
      "Wall time: 6.08 s\n"
     ]
    }
   ],
   "source": [
    "%%time \n",
    "\n",
    "fix_params = {\"iterations\": 100,\n",
    "              \"loss_function\": \"Logloss\",\n",
    "              \"custom_loss\": \"AUC:hints=skip_train~false\",\n",
    "              'eval_metric': 'AUC:hints=skip_train~false',\n",
    "              \"verbose\": 0,\n",
    "             #'task_type':'GPU'\n",
    "             }\n",
    "\n",
    "params = {\"depth\": [3], #np.arange(2, 10), #[2, 3, 4, 5],\n",
    "          'learning_rate': [0.08], #np.linspace(0.03, 0.8, 8),\n",
    "          'l2_leaf_reg': [3.75], #np.linspace(3, 4, 6),\n",
    "          'min_data_in_leaf': [1], #np.arange(1, 10, 2), \n",
    "          #'grow_policy': ['Depthwise'] #['SymmetricTree', 'Depthwise', 'Lossguide']\n",
    "          }\n",
    "\n",
    "\n",
    "cat = CatBoostClassifier(**fix_params)\n",
    "scores = cat.grid_search(params, datapool, cv=3)\n",
    "#scores = cat.randomized_search(params, datapool, cv=4, n_iter=100)\n"
   ]
  },
  {
   "cell_type": "code",
   "execution_count": 41,
   "metadata": {
    "execution": {
     "iopub.execute_input": "2023-03-28T07:09:56.404677Z",
     "iopub.status.busy": "2023-03-28T07:09:56.403744Z",
     "iopub.status.idle": "2023-03-28T07:09:56.412875Z",
     "shell.execute_reply": "2023-03-28T07:09:56.411547Z",
     "shell.execute_reply.started": "2023-03-28T07:09:56.404635Z"
    },
    "scrolled": true
   },
   "outputs": [
    {
     "data": {
      "text/plain": [
       "{'min_data_in_leaf': 1, 'depth': 3, 'learning_rate': 0.08, 'l2_leaf_reg': 3.75}"
      ]
     },
     "execution_count": 41,
     "metadata": {},
     "output_type": "execute_result"
    }
   ],
   "source": [
    "scores['params']"
   ]
  },
  {
   "cell_type": "code",
   "execution_count": 42,
   "metadata": {
    "execution": {
     "iopub.execute_input": "2023-03-28T07:04:29.076739Z",
     "iopub.status.busy": "2023-03-28T07:04:29.076339Z",
     "iopub.status.idle": "2023-03-28T07:04:29.092603Z",
     "shell.execute_reply": "2023-03-28T07:04:29.091124Z",
     "shell.execute_reply.started": "2023-03-28T07:04:29.076703Z"
    }
   },
   "outputs": [
    {
     "data": {
      "text/plain": [
       "0.8704838817671793"
      ]
     },
     "execution_count": 42,
     "metadata": {},
     "output_type": "execute_result"
    }
   ],
   "source": [
    "fix_params['iterations'] = 300\n",
    "cat_res = CatBoostClassifier(**fix_params, **scores['params'])\n",
    "cat_res.fit(datapool)\n",
    "roc_auc_score(data[target_col], cat_res.predict_proba(datapool)[:,1])"
   ]
  },
  {
   "cell_type": "code",
   "execution_count": 43,
   "metadata": {
    "execution": {
     "iopub.execute_input": "2023-03-10T06:07:16.093108Z",
     "iopub.status.busy": "2023-03-10T06:07:16.092752Z",
     "iopub.status.idle": "2023-03-10T06:07:16.131576Z",
     "shell.execute_reply": "2023-03-10T06:07:16.130499Z",
     "shell.execute_reply.started": "2023-03-10T06:07:16.093076Z"
    }
   },
   "outputs": [],
   "source": [
    "submit = pd.read_csv(DATAPATH+'submission.csv', index_col='Id')\n",
    "\n",
    "submit['Churn'] = cat_res.predict_proba(test_data)[:,1]\n",
    "\n",
    "submit.to_csv('cb_new_new.csv')"
   ]
  },
  {
   "attachments": {
    "image-5.png": {
     "image/png": "[encoded data removed]"
    }
   },
   "cell_type": "markdown",
   "metadata": {},
   "source": [
    "![image-5.png](attachment:image-5.png)\n",
    "\n",
    "**Kaggle дал 0.85494**\n",
    "\n",
    "85 результат на 09.03.2023"
   ]
  },
  {
   "cell_type": "markdown",
   "metadata": {
    "id": "dDMXbvNZEEZV"
   },
   "source": [
    "<a name=\"6\"> </a>    \n",
    "# Финальный результат"
   ]
  },
  {
   "cell_type": "markdown",
   "metadata": {},
   "source": [
    "**Лучший результат на Kaggle в этой версии дал CatBoost - 0.85494**\n",
    "\n",
    "<a href=#5> ссылка на раздел </a>"
   ]
  }
 ],
 "metadata": {
  "kernelspec": {
   "display_name": "Python 3 (ipykernel)",
   "language": "python",
   "name": "python3"
  },
  "language_info": {
   "codemirror_mode": {
    "name": "ipython",
    "version": 3
   },
   "file_extension": ".py",
   "mimetype": "text/x-python",
   "name": "python",
   "nbconvert_exporter": "python",
   "pygments_lexer": "ipython3",
   "version": "3.9.12"
  }
 },
 "nbformat": 4,
 "nbformat_minor": 4
}
